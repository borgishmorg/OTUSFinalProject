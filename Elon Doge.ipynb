{
 "cells": [
  {
   "cell_type": "markdown",
   "id": "0444b3dd-4acd-487a-b388-5e4095af7d5f",
   "metadata": {},
   "source": [
    "Download DOGE data from [yahoo](https://finance.yahoo.com/quote/DOGE-USD/history?period1=1546300800&period2=1657756800&interval=1d&filter=history&frequency=1d&includeAdjustedClose=true)"
   ]
  },
  {
   "cell_type": "code",
   "execution_count": 1,
   "id": "e5937b7a-4c02-43d6-aa86-3cf756dba77b",
   "metadata": {},
   "outputs": [],
   "source": [
    "import re\n",
    "import numpy as np\n",
    "import pandas as pd\n",
    "import seaborn as sns\n",
    "import matplotlib.pyplot as plt\n",
    "\n",
    "from sklearn.linear_model import LogisticRegression, LogisticRegressionCV\n",
    "from sklearn.feature_extraction.text import TfidfVectorizer\n",
    "from sklearn.metrics import classification_report\n",
    "from sklearn.ensemble import RandomForestClassifier\n",
    "from sklearn.model_selection import train_test_split, cross_val_score, GridSearchCV\n",
    "from sklearn.metrics import precision_score"
   ]
  },
  {
   "cell_type": "code",
   "execution_count": 2,
   "id": "335bf27f-21c9-4572-afdf-bcf91a99de74",
   "metadata": {},
   "outputs": [
    {
     "name": "stderr",
     "output_type": "stream",
     "text": [
      "[nltk_data] Downloading package stopwords to\n",
      "[nltk_data]     C:\\Users\\Semon\\AppData\\Roaming\\nltk_data...\n",
      "[nltk_data]   Package stopwords is already up-to-date!\n"
     ]
    }
   ],
   "source": [
    "import nltk\n",
    "from nltk.corpus import stopwords\n",
    "\n",
    "nltk.download('stopwords')\n",
    "stop_words = set(stopwords.words('english')) | {'rt'}"
   ]
  },
  {
   "cell_type": "markdown",
   "id": "e0c8be00-39e9-4b95-86df-01cf2c93fada",
   "metadata": {},
   "source": [
    "## Data loading"
   ]
  },
  {
   "cell_type": "code",
   "execution_count": 3,
   "id": "8ac3d8a8-62c3-47a9-b8cf-c32cd6adedee",
   "metadata": {},
   "outputs": [],
   "source": [
    "ticker_df_path = 'data/DOGE-USD.csv'\n",
    "# ticker_df_path = 'data/BTC-USD.csv'\n",
    "# ticker_df_path = 'data/TSLA.csv'\n",
    "# ticker_df_path = 'data/CNY=X.csv'\n",
    "\n",
    "tweets_df_path = 'data/elon_prepared_tweets.csv'\n",
    "# tweets_df_path = 'data/trump_prepared_tweets.csv'"
   ]
  },
  {
   "cell_type": "code",
   "execution_count": 4,
   "id": "adc4b8e5-2082-44ba-844e-d8a540f610d4",
   "metadata": {},
   "outputs": [
    {
     "data": {
      "text/html": [
       "<div>\n",
       "<style scoped>\n",
       "    .dataframe tbody tr th:only-of-type {\n",
       "        vertical-align: middle;\n",
       "    }\n",
       "\n",
       "    .dataframe tbody tr th {\n",
       "        vertical-align: top;\n",
       "    }\n",
       "\n",
       "    .dataframe thead th {\n",
       "        text-align: right;\n",
       "    }\n",
       "</style>\n",
       "<table border=\"1\" class=\"dataframe\">\n",
       "  <thead>\n",
       "    <tr style=\"text-align: right;\">\n",
       "      <th></th>\n",
       "      <th>Open</th>\n",
       "      <th>High</th>\n",
       "      <th>Low</th>\n",
       "      <th>Close</th>\n",
       "      <th>Adj Close</th>\n",
       "      <th>Volume</th>\n",
       "      <th>NextDayClose</th>\n",
       "    </tr>\n",
       "  </thead>\n",
       "  <tbody>\n",
       "    <tr>\n",
       "      <th>2019-01-01</th>\n",
       "      <td>0.002346</td>\n",
       "      <td>0.002392</td>\n",
       "      <td>0.002322</td>\n",
       "      <td>0.002392</td>\n",
       "      <td>0.002392</td>\n",
       "      <td>17364744</td>\n",
       "      <td>0.002407</td>\n",
       "    </tr>\n",
       "    <tr>\n",
       "      <th>2019-01-02</th>\n",
       "      <td>0.002388</td>\n",
       "      <td>0.002458</td>\n",
       "      <td>0.002372</td>\n",
       "      <td>0.002407</td>\n",
       "      <td>0.002407</td>\n",
       "      <td>18015392</td>\n",
       "      <td>0.002360</td>\n",
       "    </tr>\n",
       "    <tr>\n",
       "      <th>2019-01-03</th>\n",
       "      <td>0.002404</td>\n",
       "      <td>0.002414</td>\n",
       "      <td>0.002356</td>\n",
       "      <td>0.002360</td>\n",
       "      <td>0.002360</td>\n",
       "      <td>17619234</td>\n",
       "      <td>0.002315</td>\n",
       "    </tr>\n",
       "    <tr>\n",
       "      <th>2019-01-04</th>\n",
       "      <td>0.002364</td>\n",
       "      <td>0.002397</td>\n",
       "      <td>0.002274</td>\n",
       "      <td>0.002315</td>\n",
       "      <td>0.002315</td>\n",
       "      <td>19530100</td>\n",
       "      <td>0.002319</td>\n",
       "    </tr>\n",
       "    <tr>\n",
       "      <th>2019-01-05</th>\n",
       "      <td>0.002320</td>\n",
       "      <td>0.002350</td>\n",
       "      <td>0.002280</td>\n",
       "      <td>0.002319</td>\n",
       "      <td>0.002319</td>\n",
       "      <td>17148586</td>\n",
       "      <td>0.002328</td>\n",
       "    </tr>\n",
       "  </tbody>\n",
       "</table>\n",
       "</div>"
      ],
      "text/plain": [
       "                Open      High       Low     Close  Adj Close    Volume  \\\n",
       "2019-01-01  0.002346  0.002392  0.002322  0.002392   0.002392  17364744   \n",
       "2019-01-02  0.002388  0.002458  0.002372  0.002407   0.002407  18015392   \n",
       "2019-01-03  0.002404  0.002414  0.002356  0.002360   0.002360  17619234   \n",
       "2019-01-04  0.002364  0.002397  0.002274  0.002315   0.002315  19530100   \n",
       "2019-01-05  0.002320  0.002350  0.002280  0.002319   0.002319  17148586   \n",
       "\n",
       "            NextDayClose  \n",
       "2019-01-01      0.002407  \n",
       "2019-01-02      0.002360  \n",
       "2019-01-03      0.002315  \n",
       "2019-01-04      0.002319  \n",
       "2019-01-05      0.002328  "
      ]
     },
     "execution_count": 4,
     "metadata": {},
     "output_type": "execute_result"
    }
   ],
   "source": [
    "ticker_df = pd.read_csv(ticker_df_path)\n",
    "ticker_df.Date = pd.to_datetime(ticker_df.Date)\n",
    "ticker_df.set_index('Date', drop=True, inplace=True)\n",
    "ticker_df['NextDayClose'] = ticker_df.Close.shift(-1)\n",
    "ticker_df = ticker_df.reindex(\n",
    "    pd.date_range(\n",
    "        '2019-01-01', \n",
    "        ticker_df.index.max()\n",
    "    ),\n",
    "    method='backfill',\n",
    ")\n",
    "ticker_df.head()"
   ]
  },
  {
   "cell_type": "code",
   "execution_count": 5,
   "id": "959197b8-35b9-4289-8eed-d2d75fe6ab97",
   "metadata": {},
   "outputs": [
    {
     "name": "stdout",
     "output_type": "stream",
     "text": [
      "<class 'pandas.core.frame.DataFrame'>\n",
      "DatetimeIndex: 1319 entries, 2019-01-01 to 2022-08-11\n",
      "Freq: D\n",
      "Data columns (total 7 columns):\n",
      " #   Column        Non-Null Count  Dtype  \n",
      "---  ------        --------------  -----  \n",
      " 0   Open          1319 non-null   float64\n",
      " 1   High          1319 non-null   float64\n",
      " 2   Low           1319 non-null   float64\n",
      " 3   Close         1319 non-null   float64\n",
      " 4   Adj Close     1319 non-null   float64\n",
      " 5   Volume        1319 non-null   int64  \n",
      " 6   NextDayClose  1318 non-null   float64\n",
      "dtypes: float64(6), int64(1)\n",
      "memory usage: 82.4 KB\n"
     ]
    }
   ],
   "source": [
    "ticker_df.info()"
   ]
  },
  {
   "cell_type": "code",
   "execution_count": 6,
   "id": "79939784-a703-4028-b44f-da49c1b95870",
   "metadata": {},
   "outputs": [
    {
     "data": {
      "image/png": "[encoded data removed]",
      "text/plain": [
       "<Figure size 1152x576 with 1 Axes>"
      ]
     },
     "metadata": {
      "needs_background": "light"
     },
     "output_type": "display_data"
    }
   ],
   "source": [
    "ticker_df.Volume.plot(figsize=(16, 8));"
   ]
  },
  {
   "cell_type": "code",
   "execution_count": 7,
   "id": "377279ae-bef4-4f9b-b476-f673a6fa71a8",
   "metadata": {},
   "outputs": [
    {
     "data": {
      "image/png": "[encoded data removed]",
      "text/plain": [
       "<Figure size 1152x576 with 1 Axes>"
      ]
     },
     "metadata": {
      "needs_background": "light"
     },
     "output_type": "display_data"
    }
   ],
   "source": [
    "ticker_df.Close.plot(figsize=(16, 8));"
   ]
  },
  {
   "cell_type": "code",
   "execution_count": 8,
   "id": "3ce58e1e-1ca5-439d-baa6-6fe85fe45c25",
   "metadata": {},
   "outputs": [
    {
     "data": {
      "text/html": [
       "<div>\n",
       "<style scoped>\n",
       "    .dataframe tbody tr th:only-of-type {\n",
       "        vertical-align: middle;\n",
       "    }\n",
       "\n",
       "    .dataframe tbody tr th {\n",
       "        vertical-align: top;\n",
       "    }\n",
       "\n",
       "    .dataframe thead th {\n",
       "        text-align: right;\n",
       "    }\n",
       "</style>\n",
       "<table border=\"1\" class=\"dataframe\">\n",
       "  <thead>\n",
       "    <tr style=\"text-align: right;\">\n",
       "      <th></th>\n",
       "      <th>text</th>\n",
       "      <th>date</th>\n",
       "      <th>cleared_text</th>\n",
       "      <th>V1</th>\n",
       "      <th>V2</th>\n",
       "      <th>V3</th>\n",
       "      <th>V4</th>\n",
       "      <th>V5</th>\n",
       "      <th>V6</th>\n",
       "      <th>V7</th>\n",
       "      <th>...</th>\n",
       "      <th>V291</th>\n",
       "      <th>V292</th>\n",
       "      <th>V293</th>\n",
       "      <th>V294</th>\n",
       "      <th>V295</th>\n",
       "      <th>V296</th>\n",
       "      <th>V297</th>\n",
       "      <th>V298</th>\n",
       "      <th>V299</th>\n",
       "      <th>V300</th>\n",
       "    </tr>\n",
       "    <tr>\n",
       "      <th>id</th>\n",
       "      <th></th>\n",
       "      <th></th>\n",
       "      <th></th>\n",
       "      <th></th>\n",
       "      <th></th>\n",
       "      <th></th>\n",
       "      <th></th>\n",
       "      <th></th>\n",
       "      <th></th>\n",
       "      <th></th>\n",
       "      <th></th>\n",
       "      <th></th>\n",
       "      <th></th>\n",
       "      <th></th>\n",
       "      <th></th>\n",
       "      <th></th>\n",
       "      <th></th>\n",
       "      <th></th>\n",
       "      <th></th>\n",
       "      <th></th>\n",
       "      <th></th>\n",
       "    </tr>\n",
       "  </thead>\n",
       "  <tbody>\n",
       "    <tr>\n",
       "      <th>1211071324518531072</th>\n",
       "      <td>@Joe__Wakefield @austinbarnard45 @tjq1190 @tyg...</td>\n",
       "      <td>2019-12-28</td>\n",
       "      <td>this is a pretty awful lie i left south africa...</td>\n",
       "      <td>-0.048342</td>\n",
       "      <td>-0.014244</td>\n",
       "      <td>0.016088</td>\n",
       "      <td>0.002211</td>\n",
       "      <td>-0.012234</td>\n",
       "      <td>0.082633</td>\n",
       "      <td>-0.016118</td>\n",
       "      <td>...</td>\n",
       "      <td>-0.000773</td>\n",
       "      <td>-0.019107</td>\n",
       "      <td>-0.039366</td>\n",
       "      <td>0.015982</td>\n",
       "      <td>0.049104</td>\n",
       "      <td>-0.056251</td>\n",
       "      <td>-0.057072</td>\n",
       "      <td>-0.057435</td>\n",
       "      <td>-0.011789</td>\n",
       "      <td>0.036748</td>\n",
       "    </tr>\n",
       "    <tr>\n",
       "      <th>1211069054779301894</th>\n",
       "      <td>@austinbarnard45 @tjq1190 @tyger_cyber @fawful...</td>\n",
       "      <td>2019-12-28</td>\n",
       "      <td>this person blocked me so can t read the tweet...</td>\n",
       "      <td>-0.012730</td>\n",
       "      <td>-0.017078</td>\n",
       "      <td>0.028585</td>\n",
       "      <td>0.025572</td>\n",
       "      <td>-0.045578</td>\n",
       "      <td>0.065623</td>\n",
       "      <td>-0.013617</td>\n",
       "      <td>...</td>\n",
       "      <td>-0.012550</td>\n",
       "      <td>-0.046741</td>\n",
       "      <td>-0.000691</td>\n",
       "      <td>0.019577</td>\n",
       "      <td>0.077184</td>\n",
       "      <td>-0.057226</td>\n",
       "      <td>-0.047901</td>\n",
       "      <td>0.028700</td>\n",
       "      <td>0.011547</td>\n",
       "      <td>0.033419</td>\n",
       "    </tr>\n",
       "    <tr>\n",
       "      <th>1211064937004589056</th>\n",
       "      <td>@IrinaAntony @tjq1190 @tyger_cyber @fawfulfan ...</td>\n",
       "      <td>2019-12-28</td>\n",
       "      <td>we started zip2 with 2k from me plus my overcl...</td>\n",
       "      <td>-0.042071</td>\n",
       "      <td>-0.075559</td>\n",
       "      <td>-0.029521</td>\n",
       "      <td>0.020394</td>\n",
       "      <td>-0.014714</td>\n",
       "      <td>0.073634</td>\n",
       "      <td>-0.013487</td>\n",
       "      <td>...</td>\n",
       "      <td>-0.022040</td>\n",
       "      <td>-0.001922</td>\n",
       "      <td>-0.011946</td>\n",
       "      <td>0.028490</td>\n",
       "      <td>0.086696</td>\n",
       "      <td>-0.028041</td>\n",
       "      <td>-0.038507</td>\n",
       "      <td>-0.005319</td>\n",
       "      <td>0.075069</td>\n",
       "      <td>-0.058273</td>\n",
       "    </tr>\n",
       "    <tr>\n",
       "      <th>1211054942192119808</th>\n",
       "      <td>@tjq1190 @tyger_cyber @fawfulfan @_Mikemo He d...</td>\n",
       "      <td>2019-12-28</td>\n",
       "      <td>he didn t own an emerald mine i worked my way ...</td>\n",
       "      <td>-0.026122</td>\n",
       "      <td>-0.068418</td>\n",
       "      <td>0.031035</td>\n",
       "      <td>-0.038473</td>\n",
       "      <td>-0.031547</td>\n",
       "      <td>0.080213</td>\n",
       "      <td>-0.034022</td>\n",
       "      <td>...</td>\n",
       "      <td>0.003521</td>\n",
       "      <td>-0.032675</td>\n",
       "      <td>-0.035726</td>\n",
       "      <td>-0.006440</td>\n",
       "      <td>0.051075</td>\n",
       "      <td>-0.005771</td>\n",
       "      <td>-0.002485</td>\n",
       "      <td>-0.073661</td>\n",
       "      <td>-0.000422</td>\n",
       "      <td>0.012104</td>\n",
       "    </tr>\n",
       "    <tr>\n",
       "      <th>1211051740562366464</th>\n",
       "      <td>@geofficient Pretty much</td>\n",
       "      <td>2019-12-28</td>\n",
       "      <td>pretty much</td>\n",
       "      <td>-0.061854</td>\n",
       "      <td>-0.111202</td>\n",
       "      <td>0.020066</td>\n",
       "      <td>0.037324</td>\n",
       "      <td>-0.120143</td>\n",
       "      <td>0.163722</td>\n",
       "      <td>-0.013768</td>\n",
       "      <td>...</td>\n",
       "      <td>0.025169</td>\n",
       "      <td>-0.046883</td>\n",
       "      <td>-0.015783</td>\n",
       "      <td>0.062415</td>\n",
       "      <td>0.068658</td>\n",
       "      <td>-0.104441</td>\n",
       "      <td>-0.167005</td>\n",
       "      <td>0.059559</td>\n",
       "      <td>0.263472</td>\n",
       "      <td>0.011272</td>\n",
       "    </tr>\n",
       "  </tbody>\n",
       "</table>\n",
       "<p>5 rows × 303 columns</p>\n",
       "</div>"
      ],
      "text/plain": [
       "                                                                  text  \\\n",
       "id                                                                       \n",
       "1211071324518531072  @Joe__Wakefield @austinbarnard45 @tjq1190 @tyg...   \n",
       "1211069054779301894  @austinbarnard45 @tjq1190 @tyger_cyber @fawful...   \n",
       "1211064937004589056  @IrinaAntony @tjq1190 @tyger_cyber @fawfulfan ...   \n",
       "1211054942192119808  @tjq1190 @tyger_cyber @fawfulfan @_Mikemo He d...   \n",
       "1211051740562366464                           @geofficient Pretty much   \n",
       "\n",
       "                          date  \\\n",
       "id                               \n",
       "1211071324518531072 2019-12-28   \n",
       "1211069054779301894 2019-12-28   \n",
       "1211064937004589056 2019-12-28   \n",
       "1211054942192119808 2019-12-28   \n",
       "1211051740562366464 2019-12-28   \n",
       "\n",
       "                                                          cleared_text  \\\n",
       "id                                                                       \n",
       "1211071324518531072  this is a pretty awful lie i left south africa...   \n",
       "1211069054779301894  this person blocked me so can t read the tweet...   \n",
       "1211064937004589056  we started zip2 with 2k from me plus my overcl...   \n",
       "1211054942192119808  he didn t own an emerald mine i worked my way ...   \n",
       "1211051740562366464                                        pretty much   \n",
       "\n",
       "                           V1        V2        V3        V4        V5  \\\n",
       "id                                                                      \n",
       "1211071324518531072 -0.048342 -0.014244  0.016088  0.002211 -0.012234   \n",
       "1211069054779301894 -0.012730 -0.017078  0.028585  0.025572 -0.045578   \n",
       "1211064937004589056 -0.042071 -0.075559 -0.029521  0.020394 -0.014714   \n",
       "1211054942192119808 -0.026122 -0.068418  0.031035 -0.038473 -0.031547   \n",
       "1211051740562366464 -0.061854 -0.111202  0.020066  0.037324 -0.120143   \n",
       "\n",
       "                           V6        V7  ...      V291      V292      V293  \\\n",
       "id                                       ...                                 \n",
       "1211071324518531072  0.082633 -0.016118  ... -0.000773 -0.019107 -0.039366   \n",
       "1211069054779301894  0.065623 -0.013617  ... -0.012550 -0.046741 -0.000691   \n",
       "1211064937004589056  0.073634 -0.013487  ... -0.022040 -0.001922 -0.011946   \n",
       "1211054942192119808  0.080213 -0.034022  ...  0.003521 -0.032675 -0.035726   \n",
       "1211051740562366464  0.163722 -0.013768  ...  0.025169 -0.046883 -0.015783   \n",
       "\n",
       "                         V294      V295      V296      V297      V298  \\\n",
       "id                                                                      \n",
       "1211071324518531072  0.015982  0.049104 -0.056251 -0.057072 -0.057435   \n",
       "1211069054779301894  0.019577  0.077184 -0.057226 -0.047901  0.028700   \n",
       "1211064937004589056  0.028490  0.086696 -0.028041 -0.038507 -0.005319   \n",
       "1211054942192119808 -0.006440  0.051075 -0.005771 -0.002485 -0.073661   \n",
       "1211051740562366464  0.062415  0.068658 -0.104441 -0.167005  0.059559   \n",
       "\n",
       "                         V299      V300  \n",
       "id                                       \n",
       "1211071324518531072 -0.011789  0.036748  \n",
       "1211069054779301894  0.011547  0.033419  \n",
       "1211064937004589056  0.075069 -0.058273  \n",
       "1211054942192119808 -0.000422  0.012104  \n",
       "1211051740562366464  0.263472  0.011272  \n",
       "\n",
       "[5 rows x 303 columns]"
      ]
     },
     "execution_count": 8,
     "metadata": {},
     "output_type": "execute_result"
    }
   ],
   "source": [
    "tweets_df = pd.read_csv(tweets_df_path, index_col='id', parse_dates=['date'])\n",
    "tweets_df.head()"
   ]
  },
  {
   "cell_type": "code",
   "execution_count": 9,
   "id": "150487ce-66e3-48aa-b29a-8a69ef1bd982",
   "metadata": {},
   "outputs": [],
   "source": [
    "# tweets_df = tweets_df[tweets_df.cleared_text.str.contains('doge')]"
   ]
  },
  {
   "cell_type": "code",
   "execution_count": 10,
   "id": "9fece4fc-8f56-484f-8396-301dcd34fee6",
   "metadata": {},
   "outputs": [
    {
     "name": "stdout",
     "output_type": "stream",
     "text": [
      "<class 'pandas.core.frame.DataFrame'>\n",
      "Int64Index: 8643 entries, 1211071324518531072 to 1344810193952014336\n",
      "Columns: 303 entries, text to V300\n",
      "dtypes: datetime64[ns](1), float64(300), object(2)\n",
      "memory usage: 20.0+ MB\n"
     ]
    }
   ],
   "source": [
    "tweets_df.info()"
   ]
  },
  {
   "cell_type": "code",
   "execution_count": 11,
   "id": "5c97b54a-8efd-48b3-b806-9df3aa1503e7",
   "metadata": {},
   "outputs": [
    {
     "data": {
      "image/png": "[encoded data removed]",
      "text/plain": [
       "<Figure size 1152x576 with 1 Axes>"
      ]
     },
     "metadata": {
      "needs_background": "light"
     },
     "output_type": "display_data"
    }
   ],
   "source": [
    "ticker_df.Close.plot(figsize=(16, 8));\n",
    "for xc in set(tweets_df.date): # [tweets_df.cleared_text.str.contains('doge')]\n",
    "    plt.axvline(x=xc, color='red', dashes=(0.2, 1))"
   ]
  },
  {
   "cell_type": "code",
   "execution_count": 12,
   "id": "df5b4f6c-f4c8-40c1-a8c1-ab19bd306276",
   "metadata": {},
   "outputs": [],
   "source": [
    "tweets_df['ticker_grow_in_this_day'] = tweets_df.apply(\n",
    "    lambda r: ticker_df.loc[r['date']], \n",
    "    axis=1\n",
    ").apply(\n",
    "    lambda r: np.int32(r.Open > r.NextDayClose), \n",
    "    axis=1\n",
    ")"
   ]
  },
  {
   "cell_type": "code",
   "execution_count": 13,
   "id": "1a82b027-e59d-4ebd-8ba3-8ae271159735",
   "metadata": {},
   "outputs": [
    {
     "data": {
      "text/plain": [
       "0.5205368506305681"
      ]
     },
     "execution_count": 13,
     "metadata": {},
     "output_type": "execute_result"
    }
   ],
   "source": [
    "tweets_df['ticker_grow_in_this_day'].mean()"
   ]
  },
  {
   "cell_type": "code",
   "execution_count": 14,
   "id": "0e7f78d8-700e-4c11-9f5d-702a1dd1723f",
   "metadata": {},
   "outputs": [
    {
     "data": {
      "text/html": [
       "<div>\n",
       "<style scoped>\n",
       "    .dataframe tbody tr th:only-of-type {\n",
       "        vertical-align: middle;\n",
       "    }\n",
       "\n",
       "    .dataframe tbody tr th {\n",
       "        vertical-align: top;\n",
       "    }\n",
       "\n",
       "    .dataframe thead th {\n",
       "        text-align: right;\n",
       "    }\n",
       "</style>\n",
       "<table border=\"1\" class=\"dataframe\">\n",
       "  <thead>\n",
       "    <tr style=\"text-align: right;\">\n",
       "      <th></th>\n",
       "      <th>text</th>\n",
       "      <th>date</th>\n",
       "      <th>cleared_text</th>\n",
       "      <th>V1</th>\n",
       "      <th>V2</th>\n",
       "      <th>V3</th>\n",
       "      <th>V4</th>\n",
       "      <th>V5</th>\n",
       "      <th>V6</th>\n",
       "      <th>V7</th>\n",
       "      <th>...</th>\n",
       "      <th>V292</th>\n",
       "      <th>V293</th>\n",
       "      <th>V294</th>\n",
       "      <th>V295</th>\n",
       "      <th>V296</th>\n",
       "      <th>V297</th>\n",
       "      <th>V298</th>\n",
       "      <th>V299</th>\n",
       "      <th>V300</th>\n",
       "      <th>ticker_grow_in_this_day</th>\n",
       "    </tr>\n",
       "    <tr>\n",
       "      <th>id</th>\n",
       "      <th></th>\n",
       "      <th></th>\n",
       "      <th></th>\n",
       "      <th></th>\n",
       "      <th></th>\n",
       "      <th></th>\n",
       "      <th></th>\n",
       "      <th></th>\n",
       "      <th></th>\n",
       "      <th></th>\n",
       "      <th></th>\n",
       "      <th></th>\n",
       "      <th></th>\n",
       "      <th></th>\n",
       "      <th></th>\n",
       "      <th></th>\n",
       "      <th></th>\n",
       "      <th></th>\n",
       "      <th></th>\n",
       "      <th></th>\n",
       "      <th></th>\n",
       "    </tr>\n",
       "  </thead>\n",
       "  <tbody>\n",
       "    <tr>\n",
       "      <th>1211071324518531072</th>\n",
       "      <td>@Joe__Wakefield @austinbarnard45 @tjq1190 @tyg...</td>\n",
       "      <td>2019-12-28</td>\n",
       "      <td>this is a pretty awful lie i left south africa...</td>\n",
       "      <td>-0.048342</td>\n",
       "      <td>-0.014244</td>\n",
       "      <td>0.016088</td>\n",
       "      <td>0.002211</td>\n",
       "      <td>-0.012234</td>\n",
       "      <td>0.082633</td>\n",
       "      <td>-0.016118</td>\n",
       "      <td>...</td>\n",
       "      <td>-0.019107</td>\n",
       "      <td>-0.039366</td>\n",
       "      <td>0.015982</td>\n",
       "      <td>0.049104</td>\n",
       "      <td>-0.056251</td>\n",
       "      <td>-0.057072</td>\n",
       "      <td>-0.057435</td>\n",
       "      <td>-0.011789</td>\n",
       "      <td>0.036748</td>\n",
       "      <td>0</td>\n",
       "    </tr>\n",
       "    <tr>\n",
       "      <th>1211069054779301894</th>\n",
       "      <td>@austinbarnard45 @tjq1190 @tyger_cyber @fawful...</td>\n",
       "      <td>2019-12-28</td>\n",
       "      <td>this person blocked me so can t read the tweet...</td>\n",
       "      <td>-0.012730</td>\n",
       "      <td>-0.017078</td>\n",
       "      <td>0.028585</td>\n",
       "      <td>0.025572</td>\n",
       "      <td>-0.045578</td>\n",
       "      <td>0.065623</td>\n",
       "      <td>-0.013617</td>\n",
       "      <td>...</td>\n",
       "      <td>-0.046741</td>\n",
       "      <td>-0.000691</td>\n",
       "      <td>0.019577</td>\n",
       "      <td>0.077184</td>\n",
       "      <td>-0.057226</td>\n",
       "      <td>-0.047901</td>\n",
       "      <td>0.028700</td>\n",
       "      <td>0.011547</td>\n",
       "      <td>0.033419</td>\n",
       "      <td>0</td>\n",
       "    </tr>\n",
       "    <tr>\n",
       "      <th>1211064937004589056</th>\n",
       "      <td>@IrinaAntony @tjq1190 @tyger_cyber @fawfulfan ...</td>\n",
       "      <td>2019-12-28</td>\n",
       "      <td>we started zip2 with 2k from me plus my overcl...</td>\n",
       "      <td>-0.042071</td>\n",
       "      <td>-0.075559</td>\n",
       "      <td>-0.029521</td>\n",
       "      <td>0.020394</td>\n",
       "      <td>-0.014714</td>\n",
       "      <td>0.073634</td>\n",
       "      <td>-0.013487</td>\n",
       "      <td>...</td>\n",
       "      <td>-0.001922</td>\n",
       "      <td>-0.011946</td>\n",
       "      <td>0.028490</td>\n",
       "      <td>0.086696</td>\n",
       "      <td>-0.028041</td>\n",
       "      <td>-0.038507</td>\n",
       "      <td>-0.005319</td>\n",
       "      <td>0.075069</td>\n",
       "      <td>-0.058273</td>\n",
       "      <td>0</td>\n",
       "    </tr>\n",
       "    <tr>\n",
       "      <th>1211054942192119808</th>\n",
       "      <td>@tjq1190 @tyger_cyber @fawfulfan @_Mikemo He d...</td>\n",
       "      <td>2019-12-28</td>\n",
       "      <td>he didn t own an emerald mine i worked my way ...</td>\n",
       "      <td>-0.026122</td>\n",
       "      <td>-0.068418</td>\n",
       "      <td>0.031035</td>\n",
       "      <td>-0.038473</td>\n",
       "      <td>-0.031547</td>\n",
       "      <td>0.080213</td>\n",
       "      <td>-0.034022</td>\n",
       "      <td>...</td>\n",
       "      <td>-0.032675</td>\n",
       "      <td>-0.035726</td>\n",
       "      <td>-0.006440</td>\n",
       "      <td>0.051075</td>\n",
       "      <td>-0.005771</td>\n",
       "      <td>-0.002485</td>\n",
       "      <td>-0.073661</td>\n",
       "      <td>-0.000422</td>\n",
       "      <td>0.012104</td>\n",
       "      <td>0</td>\n",
       "    </tr>\n",
       "    <tr>\n",
       "      <th>1211051740562366464</th>\n",
       "      <td>@geofficient Pretty much</td>\n",
       "      <td>2019-12-28</td>\n",
       "      <td>pretty much</td>\n",
       "      <td>-0.061854</td>\n",
       "      <td>-0.111202</td>\n",
       "      <td>0.020066</td>\n",
       "      <td>0.037324</td>\n",
       "      <td>-0.120143</td>\n",
       "      <td>0.163722</td>\n",
       "      <td>-0.013768</td>\n",
       "      <td>...</td>\n",
       "      <td>-0.046883</td>\n",
       "      <td>-0.015783</td>\n",
       "      <td>0.062415</td>\n",
       "      <td>0.068658</td>\n",
       "      <td>-0.104441</td>\n",
       "      <td>-0.167005</td>\n",
       "      <td>0.059559</td>\n",
       "      <td>0.263472</td>\n",
       "      <td>0.011272</td>\n",
       "      <td>0</td>\n",
       "    </tr>\n",
       "  </tbody>\n",
       "</table>\n",
       "<p>5 rows × 304 columns</p>\n",
       "</div>"
      ],
      "text/plain": [
       "                                                                  text  \\\n",
       "id                                                                       \n",
       "1211071324518531072  @Joe__Wakefield @austinbarnard45 @tjq1190 @tyg...   \n",
       "1211069054779301894  @austinbarnard45 @tjq1190 @tyger_cyber @fawful...   \n",
       "1211064937004589056  @IrinaAntony @tjq1190 @tyger_cyber @fawfulfan ...   \n",
       "1211054942192119808  @tjq1190 @tyger_cyber @fawfulfan @_Mikemo He d...   \n",
       "1211051740562366464                           @geofficient Pretty much   \n",
       "\n",
       "                          date  \\\n",
       "id                               \n",
       "1211071324518531072 2019-12-28   \n",
       "1211069054779301894 2019-12-28   \n",
       "1211064937004589056 2019-12-28   \n",
       "1211054942192119808 2019-12-28   \n",
       "1211051740562366464 2019-12-28   \n",
       "\n",
       "                                                          cleared_text  \\\n",
       "id                                                                       \n",
       "1211071324518531072  this is a pretty awful lie i left south africa...   \n",
       "1211069054779301894  this person blocked me so can t read the tweet...   \n",
       "1211064937004589056  we started zip2 with 2k from me plus my overcl...   \n",
       "1211054942192119808  he didn t own an emerald mine i worked my way ...   \n",
       "1211051740562366464                                        pretty much   \n",
       "\n",
       "                           V1        V2        V3        V4        V5  \\\n",
       "id                                                                      \n",
       "1211071324518531072 -0.048342 -0.014244  0.016088  0.002211 -0.012234   \n",
       "1211069054779301894 -0.012730 -0.017078  0.028585  0.025572 -0.045578   \n",
       "1211064937004589056 -0.042071 -0.075559 -0.029521  0.020394 -0.014714   \n",
       "1211054942192119808 -0.026122 -0.068418  0.031035 -0.038473 -0.031547   \n",
       "1211051740562366464 -0.061854 -0.111202  0.020066  0.037324 -0.120143   \n",
       "\n",
       "                           V6        V7  ...      V292      V293      V294  \\\n",
       "id                                       ...                                 \n",
       "1211071324518531072  0.082633 -0.016118  ... -0.019107 -0.039366  0.015982   \n",
       "1211069054779301894  0.065623 -0.013617  ... -0.046741 -0.000691  0.019577   \n",
       "1211064937004589056  0.073634 -0.013487  ... -0.001922 -0.011946  0.028490   \n",
       "1211054942192119808  0.080213 -0.034022  ... -0.032675 -0.035726 -0.006440   \n",
       "1211051740562366464  0.163722 -0.013768  ... -0.046883 -0.015783  0.062415   \n",
       "\n",
       "                         V295      V296      V297      V298      V299  \\\n",
       "id                                                                      \n",
       "1211071324518531072  0.049104 -0.056251 -0.057072 -0.057435 -0.011789   \n",
       "1211069054779301894  0.077184 -0.057226 -0.047901  0.028700  0.011547   \n",
       "1211064937004589056  0.086696 -0.028041 -0.038507 -0.005319  0.075069   \n",
       "1211054942192119808  0.051075 -0.005771 -0.002485 -0.073661 -0.000422   \n",
       "1211051740562366464  0.068658 -0.104441 -0.167005  0.059559  0.263472   \n",
       "\n",
       "                         V300  ticker_grow_in_this_day  \n",
       "id                                                      \n",
       "1211071324518531072  0.036748                        0  \n",
       "1211069054779301894  0.033419                        0  \n",
       "1211064937004589056 -0.058273                        0  \n",
       "1211054942192119808  0.012104                        0  \n",
       "1211051740562366464  0.011272                        0  \n",
       "\n",
       "[5 rows x 304 columns]"
      ]
     },
     "execution_count": 14,
     "metadata": {},
     "output_type": "execute_result"
    }
   ],
   "source": [
    "tweets_df.head()"
   ]
  },
  {
   "cell_type": "code",
   "execution_count": 15,
   "id": "01daaf88-0b7f-4612-b553-967612d20277",
   "metadata": {},
   "outputs": [],
   "source": [
    "words_on_grow_df = pd.DataFrame({\n",
    "    'words': tweets_df.cleared_text.str.split().apply(set),\n",
    "    'ticker_grow_in_this_day': tweets_df.ticker_grow_in_this_day,\n",
    "}).explode('words')\n",
    "\n",
    "words_in_tweets = pd.DataFrame({\n",
    "    'tweets_ratio': words_on_grow_df.groupby('words')['ticker_grow_in_this_day'].count() / len(tweets_df),\n",
    "    'tweets_grow_ratio': (\n",
    "        words_on_grow_df.query('ticker_grow_in_this_day == 1').groupby('words')['ticker_grow_in_this_day'].count() \n",
    "        / len(tweets_df.query('ticker_grow_in_this_day == 1'))\n",
    "    ),\n",
    "    'tweets_fall_ratio': (\n",
    "        words_on_grow_df.query('ticker_grow_in_this_day == 0').groupby('words')['ticker_grow_in_this_day'].count() \n",
    "        / len(tweets_df.query('ticker_grow_in_this_day == 0'))\n",
    "    ),\n",
    "}).fillna(0).query('tweets_ratio > 0.001')\n",
    "words_in_tweets['grow_delta'] = (words_in_tweets.tweets_grow_ratio - words_in_tweets.tweets_ratio) / words_in_tweets.tweets_ratio\n",
    "words_in_tweets['fall_delta'] = (words_in_tweets.tweets_fall_ratio - words_in_tweets.tweets_ratio) / words_in_tweets.tweets_ratio"
   ]
  },
  {
   "cell_type": "code",
   "execution_count": 16,
   "id": "90973499-b349-4b69-a31f-f74c9a697664",
   "metadata": {},
   "outputs": [
    {
     "data": {
      "text/html": [
       "<div>\n",
       "<style scoped>\n",
       "    .dataframe tbody tr th:only-of-type {\n",
       "        vertical-align: middle;\n",
       "    }\n",
       "\n",
       "    .dataframe tbody tr th {\n",
       "        vertical-align: top;\n",
       "    }\n",
       "\n",
       "    .dataframe thead th {\n",
       "        text-align: right;\n",
       "    }\n",
       "</style>\n",
       "<table border=\"1\" class=\"dataframe\">\n",
       "  <thead>\n",
       "    <tr style=\"text-align: right;\">\n",
       "      <th></th>\n",
       "      <th>tweets_ratio</th>\n",
       "      <th>tweets_grow_ratio</th>\n",
       "      <th>tweets_fall_ratio</th>\n",
       "      <th>grow_delta</th>\n",
       "      <th>fall_delta</th>\n",
       "    </tr>\n",
       "    <tr>\n",
       "      <th>words</th>\n",
       "      <th></th>\n",
       "      <th></th>\n",
       "      <th></th>\n",
       "      <th></th>\n",
       "      <th></th>\n",
       "    </tr>\n",
       "  </thead>\n",
       "  <tbody>\n",
       "    <tr>\n",
       "      <th>block</th>\n",
       "      <td>0.001273</td>\n",
       "      <td>0.002223</td>\n",
       "      <td>0.000241</td>\n",
       "      <td>0.746449</td>\n",
       "      <td>-0.810394</td>\n",
       "    </tr>\n",
       "    <tr>\n",
       "      <th>irl</th>\n",
       "      <td>0.001273</td>\n",
       "      <td>0.002223</td>\n",
       "      <td>0.000241</td>\n",
       "      <td>0.746449</td>\n",
       "      <td>-0.810394</td>\n",
       "    </tr>\n",
       "    <tr>\n",
       "      <th>turned</th>\n",
       "      <td>0.001041</td>\n",
       "      <td>0.001778</td>\n",
       "      <td>0.000241</td>\n",
       "      <td>0.707639</td>\n",
       "      <td>-0.768259</td>\n",
       "    </tr>\n",
       "    <tr>\n",
       "      <th>allocation</th>\n",
       "      <td>0.001041</td>\n",
       "      <td>0.001778</td>\n",
       "      <td>0.000241</td>\n",
       "      <td>0.707639</td>\n",
       "      <td>-0.768259</td>\n",
       "    </tr>\n",
       "    <tr>\n",
       "      <th>direct</th>\n",
       "      <td>0.001620</td>\n",
       "      <td>0.002667</td>\n",
       "      <td>0.000483</td>\n",
       "      <td>0.646652</td>\n",
       "      <td>-0.702048</td>\n",
       "    </tr>\n",
       "    <tr>\n",
       "      <th>whether</th>\n",
       "      <td>0.001620</td>\n",
       "      <td>0.002667</td>\n",
       "      <td>0.000483</td>\n",
       "      <td>0.646652</td>\n",
       "      <td>-0.702048</td>\n",
       "    </tr>\n",
       "    <tr>\n",
       "      <th>cov2</th>\n",
       "      <td>0.001504</td>\n",
       "      <td>0.002445</td>\n",
       "      <td>0.000483</td>\n",
       "      <td>0.625541</td>\n",
       "      <td>-0.679128</td>\n",
       "    </tr>\n",
       "    <tr>\n",
       "      <th>action</th>\n",
       "      <td>0.001504</td>\n",
       "      <td>0.002445</td>\n",
       "      <td>0.000483</td>\n",
       "      <td>0.625541</td>\n",
       "      <td>-0.679128</td>\n",
       "    </tr>\n",
       "    <tr>\n",
       "      <th>basically</th>\n",
       "      <td>0.003355</td>\n",
       "      <td>0.005335</td>\n",
       "      <td>0.001207</td>\n",
       "      <td>0.589871</td>\n",
       "      <td>-0.640402</td>\n",
       "    </tr>\n",
       "    <tr>\n",
       "      <th>80</th>\n",
       "      <td>0.001967</td>\n",
       "      <td>0.003112</td>\n",
       "      <td>0.000724</td>\n",
       "      <td>0.582077</td>\n",
       "      <td>-0.631941</td>\n",
       "    </tr>\n",
       "  </tbody>\n",
       "</table>\n",
       "</div>"
      ],
      "text/plain": [
       "            tweets_ratio  tweets_grow_ratio  tweets_fall_ratio  grow_delta  \\\n",
       "words                                                                        \n",
       "block           0.001273           0.002223           0.000241    0.746449   \n",
       "irl             0.001273           0.002223           0.000241    0.746449   \n",
       "turned          0.001041           0.001778           0.000241    0.707639   \n",
       "allocation      0.001041           0.001778           0.000241    0.707639   \n",
       "direct          0.001620           0.002667           0.000483    0.646652   \n",
       "whether         0.001620           0.002667           0.000483    0.646652   \n",
       "cov2            0.001504           0.002445           0.000483    0.625541   \n",
       "action          0.001504           0.002445           0.000483    0.625541   \n",
       "basically       0.003355           0.005335           0.001207    0.589871   \n",
       "80              0.001967           0.003112           0.000724    0.582077   \n",
       "\n",
       "            fall_delta  \n",
       "words                   \n",
       "block        -0.810394  \n",
       "irl          -0.810394  \n",
       "turned       -0.768259  \n",
       "allocation   -0.768259  \n",
       "direct       -0.702048  \n",
       "whether      -0.702048  \n",
       "cov2         -0.679128  \n",
       "action       -0.679128  \n",
       "basically    -0.640402  \n",
       "80           -0.631941  "
      ]
     },
     "execution_count": 16,
     "metadata": {},
     "output_type": "execute_result"
    }
   ],
   "source": [
    "words_in_tweets.sort_values(by='grow_delta', ascending=False).head(10)"
   ]
  },
  {
   "cell_type": "code",
   "execution_count": 17,
   "id": "a1fce992-4a0f-4857-bae9-8364a56009de",
   "metadata": {},
   "outputs": [
    {
     "data": {
      "text/html": [
       "<div>\n",
       "<style scoped>\n",
       "    .dataframe tbody tr th:only-of-type {\n",
       "        vertical-align: middle;\n",
       "    }\n",
       "\n",
       "    .dataframe tbody tr th {\n",
       "        vertical-align: top;\n",
       "    }\n",
       "\n",
       "    .dataframe thead th {\n",
       "        text-align: right;\n",
       "    }\n",
       "</style>\n",
       "<table border=\"1\" class=\"dataframe\">\n",
       "  <thead>\n",
       "    <tr style=\"text-align: right;\">\n",
       "      <th></th>\n",
       "      <th>tweets_ratio</th>\n",
       "      <th>tweets_grow_ratio</th>\n",
       "      <th>tweets_fall_ratio</th>\n",
       "      <th>grow_delta</th>\n",
       "      <th>fall_delta</th>\n",
       "    </tr>\n",
       "    <tr>\n",
       "      <th>words</th>\n",
       "      <th></th>\n",
       "      <th></th>\n",
       "      <th></th>\n",
       "      <th></th>\n",
       "      <th></th>\n",
       "    </tr>\n",
       "  </thead>\n",
       "  <tbody>\n",
       "    <tr>\n",
       "      <th>insanely</th>\n",
       "      <td>0.001273</td>\n",
       "      <td>0.000000</td>\n",
       "      <td>0.002654</td>\n",
       "      <td>-1.000000</td>\n",
       "      <td>1.085666</td>\n",
       "    </tr>\n",
       "    <tr>\n",
       "      <th>13</th>\n",
       "      <td>0.001157</td>\n",
       "      <td>0.000222</td>\n",
       "      <td>0.002172</td>\n",
       "      <td>-0.807891</td>\n",
       "      <td>0.877099</td>\n",
       "    </tr>\n",
       "    <tr>\n",
       "      <th>startups</th>\n",
       "      <td>0.001041</td>\n",
       "      <td>0.000222</td>\n",
       "      <td>0.001931</td>\n",
       "      <td>-0.786545</td>\n",
       "      <td>0.853925</td>\n",
       "    </tr>\n",
       "    <tr>\n",
       "      <th>opposite</th>\n",
       "      <td>0.001041</td>\n",
       "      <td>0.000222</td>\n",
       "      <td>0.001931</td>\n",
       "      <td>-0.786545</td>\n",
       "      <td>0.853925</td>\n",
       "    </tr>\n",
       "    <tr>\n",
       "      <th>summer</th>\n",
       "      <td>0.001620</td>\n",
       "      <td>0.000445</td>\n",
       "      <td>0.002896</td>\n",
       "      <td>-0.725558</td>\n",
       "      <td>0.787714</td>\n",
       "    </tr>\n",
       "    <tr>\n",
       "      <th>kids</th>\n",
       "      <td>0.001388</td>\n",
       "      <td>0.000445</td>\n",
       "      <td>0.002413</td>\n",
       "      <td>-0.679818</td>\n",
       "      <td>0.738055</td>\n",
       "    </tr>\n",
       "    <tr>\n",
       "      <th>anyway</th>\n",
       "      <td>0.001273</td>\n",
       "      <td>0.000445</td>\n",
       "      <td>0.002172</td>\n",
       "      <td>-0.650710</td>\n",
       "      <td>0.706454</td>\n",
       "    </tr>\n",
       "    <tr>\n",
       "      <th>nose</th>\n",
       "      <td>0.001273</td>\n",
       "      <td>0.000445</td>\n",
       "      <td>0.002172</td>\n",
       "      <td>-0.650710</td>\n",
       "      <td>0.706454</td>\n",
       "    </tr>\n",
       "    <tr>\n",
       "      <th>operational</th>\n",
       "      <td>0.001851</td>\n",
       "      <td>0.000667</td>\n",
       "      <td>0.003137</td>\n",
       "      <td>-0.639795</td>\n",
       "      <td>0.694604</td>\n",
       "    </tr>\n",
       "    <tr>\n",
       "      <th>site</th>\n",
       "      <td>0.001851</td>\n",
       "      <td>0.000667</td>\n",
       "      <td>0.003137</td>\n",
       "      <td>-0.639795</td>\n",
       "      <td>0.694604</td>\n",
       "    </tr>\n",
       "  </tbody>\n",
       "</table>\n",
       "</div>"
      ],
      "text/plain": [
       "             tweets_ratio  tweets_grow_ratio  tweets_fall_ratio  grow_delta  \\\n",
       "words                                                                         \n",
       "insanely         0.001273           0.000000           0.002654   -1.000000   \n",
       "13               0.001157           0.000222           0.002172   -0.807891   \n",
       "startups         0.001041           0.000222           0.001931   -0.786545   \n",
       "opposite         0.001041           0.000222           0.001931   -0.786545   \n",
       "summer           0.001620           0.000445           0.002896   -0.725558   \n",
       "kids             0.001388           0.000445           0.002413   -0.679818   \n",
       "anyway           0.001273           0.000445           0.002172   -0.650710   \n",
       "nose             0.001273           0.000445           0.002172   -0.650710   \n",
       "operational      0.001851           0.000667           0.003137   -0.639795   \n",
       "site             0.001851           0.000667           0.003137   -0.639795   \n",
       "\n",
       "             fall_delta  \n",
       "words                    \n",
       "insanely       1.085666  \n",
       "13             0.877099  \n",
       "startups       0.853925  \n",
       "opposite       0.853925  \n",
       "summer         0.787714  \n",
       "kids           0.738055  \n",
       "anyway         0.706454  \n",
       "nose           0.706454  \n",
       "operational    0.694604  \n",
       "site           0.694604  "
      ]
     },
     "execution_count": 17,
     "metadata": {},
     "output_type": "execute_result"
    }
   ],
   "source": [
    "words_in_tweets.sort_values(by='fall_delta', ascending=False).head(10)"
   ]
  },
  {
   "cell_type": "markdown",
   "id": "81832a23-0a4c-449e-9e62-64050cafdb36",
   "metadata": {},
   "source": [
    "## TF-IDF. Logistic regression"
   ]
  },
  {
   "cell_type": "code",
   "execution_count": 18,
   "id": "52a918a2-7555-44d0-a11e-f40bdb2c3eee",
   "metadata": {},
   "outputs": [],
   "source": [
    "tfidf_vectorizer = TfidfVectorizer(\n",
    "    stop_words=stop_words,\n",
    "    ngram_range=(1, 2),\n",
    "    max_features=500,\n",
    ")"
   ]
  },
  {
   "cell_type": "code",
   "execution_count": 19,
   "id": "83af4c02-84cc-4e0d-a817-bfae5a109908",
   "metadata": {},
   "outputs": [
    {
     "data": {
      "text/plain": [
       "500"
      ]
     },
     "execution_count": 19,
     "metadata": {},
     "output_type": "execute_result"
    }
   ],
   "source": [
    "X = tfidf_vectorizer.fit_transform(tweets_df.cleared_text).toarray()\n",
    "y = tweets_df.ticker_grow_in_this_day\n",
    "\n",
    "len(tfidf_vectorizer.vocabulary_)"
   ]
  },
  {
   "cell_type": "code",
   "execution_count": 20,
   "id": "2702d5b9-56d3-4e4b-a5b8-1e5a37047469",
   "metadata": {},
   "outputs": [
    {
     "data": {
      "text/plain": [
       "((7778, 500), (865, 500), (7778,), (865,))"
      ]
     },
     "execution_count": 20,
     "metadata": {},
     "output_type": "execute_result"
    }
   ],
   "source": [
    "train_percent = 0.8\n",
    "idx = int(train_percent * len(y))\n",
    "\n",
    "X_train, X_test, y_train, y_test = train_test_split(X, y, stratify=y, train_size=0.9, random_state=42)\n",
    "\n",
    "X_train.shape, X_test.shape, y_train.shape, y_test.shape"
   ]
  },
  {
   "cell_type": "code",
   "execution_count": 21,
   "id": "f1e7c057-9092-450a-91e9-c5a8632efb0b",
   "metadata": {},
   "outputs": [
    {
     "name": "stdout",
     "output_type": "stream",
     "text": [
      "Test classification report (baseline):\n",
      "\n",
      "              precision    recall  f1-score   support\n",
      "\n",
      "           0       0.49      0.49      0.49       415\n",
      "           1       0.53      0.53      0.53       450\n",
      "\n",
      "    accuracy                           0.51       865\n",
      "   macro avg       0.51      0.51      0.51       865\n",
      "weighted avg       0.51      0.51      0.51       865\n",
      "\n"
     ]
    }
   ],
   "source": [
    "rnd = np.random.default_rng(42)\n",
    "\n",
    "y_baseline = np.int32(rnd.random(y_test.shape) <= y.mean())\n",
    "print('Test classification report (baseline):\\n')\n",
    "print(classification_report(y_true=y_test, y_pred=y_baseline))"
   ]
  },
  {
   "cell_type": "code",
   "execution_count": 22,
   "id": "184c930e-fb46-42fe-9519-0525aee79eee",
   "metadata": {},
   "outputs": [
    {
     "name": "stdout",
     "output_type": "stream",
     "text": [
      "CPU times: total: 30.9 s\n",
      "Wall time: 7.4 s\n"
     ]
    }
   ],
   "source": [
    "%%time\n",
    "lin_regr = LogisticRegressionCV(\n",
    "    cv=5,\n",
    "    max_iter=5000,\n",
    "    random_state=42,\n",
    "    # scoring=lambda y_true, y_pred, *args: precision_score(1 - y_true, 1 - y_pred, *args),\n",
    "    # scoring='precision',\n",
    "    # class_weight='balanced',\n",
    "    # multi_class='ovr',\n",
    ").fit(X_train, y_train)"
   ]
  },
  {
   "cell_type": "code",
   "execution_count": 23,
   "id": "55f36e81-aedc-48aa-b8a6-c0d8f3177871",
   "metadata": {},
   "outputs": [
    {
     "name": "stdout",
     "output_type": "stream",
     "text": [
      "Train classification report:\n",
      "\n",
      "              precision    recall  f1-score   support\n",
      "\n",
      "           0       0.64      0.24      0.35      3729\n",
      "           1       0.56      0.88      0.68      4049\n",
      "\n",
      "    accuracy                           0.57      7778\n",
      "   macro avg       0.60      0.56      0.51      7778\n",
      "weighted avg       0.60      0.57      0.52      7778\n",
      "\n"
     ]
    }
   ],
   "source": [
    "y_train_pred = lin_regr.predict(X_train)\n",
    "print('Train classification report:\\n')\n",
    "print(classification_report(y_true=y_train, y_pred=y_train_pred))"
   ]
  },
  {
   "cell_type": "code",
   "execution_count": 24,
   "id": "afe33240-95b0-4758-9c5e-4c257b41fbb3",
   "metadata": {},
   "outputs": [
    {
     "name": "stdout",
     "output_type": "stream",
     "text": [
      "Test classification report:\n",
      "\n",
      "              precision    recall  f1-score   support\n",
      "\n",
      "           0       0.50      0.19      0.27       415\n",
      "           1       0.52      0.83      0.64       450\n",
      "\n",
      "    accuracy                           0.52       865\n",
      "   macro avg       0.51      0.51      0.46       865\n",
      "weighted avg       0.51      0.52      0.46       865\n",
      "\n"
     ]
    }
   ],
   "source": [
    "y_pred = lin_regr.predict(X_test)\n",
    "print('Test classification report:\\n')\n",
    "print(classification_report(y_true=y_test, y_pred=y_pred))"
   ]
  },
  {
   "cell_type": "code",
   "execution_count": 25,
   "id": "975a3db7-b41c-4783-86c0-6ef23a1a29ad",
   "metadata": {},
   "outputs": [],
   "source": [
    "words_coeffs = pd.Series(dict(zip(\n",
    "    tfidf_vectorizer.get_feature_names_out(), \n",
    "    lin_regr.coef_.flatten()\n",
    ")))"
   ]
  },
  {
   "cell_type": "code",
   "execution_count": 26,
   "id": "0804e537-29c6-4d13-9c01-5455aa4d7ce9",
   "metadata": {},
   "outputs": [
    {
     "data": {
      "text/plain": [
       "array([0.10241849])"
      ]
     },
     "execution_count": 26,
     "metadata": {},
     "output_type": "execute_result"
    }
   ],
   "source": [
    "lin_regr.intercept_"
   ]
  },
  {
   "cell_type": "code",
   "execution_count": 27,
   "id": "36d294fb-ff03-45af-a80d-ead7baae87e9",
   "metadata": {},
   "outputs": [
    {
     "data": {
      "text/plain": [
       "ok                 0.248964\n",
       "like               0.231684\n",
       "basically          0.226820\n",
       "think              0.219637\n",
       "thanks             0.189326\n",
       "congratulations    0.184741\n",
       "sounds             0.158596\n",
       "work               0.156333\n",
       "much               0.155555\n",
       "fast               0.154979\n",
       "hope               0.142692\n",
       "space              0.136811\n",
       "indeed             0.134677\n",
       "higher             0.133793\n",
       "someone            0.120802\n",
       "dtype: float64"
      ]
     },
     "execution_count": 27,
     "metadata": {},
     "output_type": "execute_result"
    }
   ],
   "source": [
    "words_coeffs.sort_values(ascending=False).head(15)"
   ]
  },
  {
   "cell_type": "code",
   "execution_count": 28,
   "id": "67a4fe56-96ab-4433-8439-2489c9bff832",
   "metadata": {},
   "outputs": [
    {
     "data": {
      "text/plain": [
       "good      -0.294189\n",
       "always    -0.272107\n",
       "rocket    -0.228024\n",
       "best      -0.220713\n",
       "things    -0.213014\n",
       "launch    -0.193191\n",
       "day       -0.182693\n",
       "agreed    -0.178804\n",
       "ai        -0.178778\n",
       "doge      -0.175455\n",
       "make      -0.175161\n",
       "try       -0.172151\n",
       "weeks     -0.164778\n",
       "landing   -0.164610\n",
       "yes       -0.164062\n",
       "dtype: float64"
      ]
     },
     "execution_count": 28,
     "metadata": {},
     "output_type": "execute_result"
    }
   ],
   "source": [
    "words_coeffs.sort_values(ascending=True).head(15)"
   ]
  },
  {
   "cell_type": "markdown",
   "id": "f175c6d4-1f2d-4564-8f52-bbdb7946f7f8",
   "metadata": {},
   "source": [
    "## TF-IDF. Random forest"
   ]
  },
  {
   "cell_type": "code",
   "execution_count": 29,
   "id": "a70094d5-d7ba-4092-912d-54e9ba47ea99",
   "metadata": {},
   "outputs": [],
   "source": [
    "random_forest = RandomForestClassifier(random_state=42).fit(X_train, y_train)"
   ]
  },
  {
   "cell_type": "code",
   "execution_count": 30,
   "id": "a6a4db7f-f57b-4c6a-b46d-d612fdf9a53c",
   "metadata": {},
   "outputs": [
    {
     "name": "stdout",
     "output_type": "stream",
     "text": [
      "Train classification report:\n",
      "\n",
      "              precision    recall  f1-score   support\n",
      "\n",
      "           0       0.87      0.76      0.81      3729\n",
      "           1       0.80      0.90      0.85      4049\n",
      "\n",
      "    accuracy                           0.83      7778\n",
      "   macro avg       0.84      0.83      0.83      7778\n",
      "weighted avg       0.84      0.83      0.83      7778\n",
      "\n"
     ]
    }
   ],
   "source": [
    "y_train_pred = random_forest.predict(X_train)\n",
    "print('Train classification report:\\n')\n",
    "print(classification_report(y_true=y_train, y_pred=y_train_pred))"
   ]
  },
  {
   "cell_type": "code",
   "execution_count": 31,
   "id": "f6b74cc2-5240-4ca5-9f44-cec36d408a31",
   "metadata": {},
   "outputs": [
    {
     "name": "stdout",
     "output_type": "stream",
     "text": [
      "Test classification report:\n",
      "\n",
      "              precision    recall  f1-score   support\n",
      "\n",
      "           0       0.51      0.45      0.48       415\n",
      "           1       0.54      0.60      0.57       450\n",
      "\n",
      "    accuracy                           0.53       865\n",
      "   macro avg       0.52      0.52      0.52       865\n",
      "weighted avg       0.52      0.53      0.52       865\n",
      "\n"
     ]
    }
   ],
   "source": [
    "y_pred = random_forest.predict(X_test)\n",
    "print('Test classification report:\\n')\n",
    "print(classification_report(y_true=y_test, y_pred=y_pred))"
   ]
  },
  {
   "cell_type": "code",
   "execution_count": 32,
   "id": "83b08e2b-698a-4857-92e7-6e601a041d15",
   "metadata": {},
   "outputs": [],
   "source": [
    "param_grid = { \n",
    "    'n_estimators': [200, 500],\n",
    "    'max_features': ['sqrt', 'log2'],\n",
    "    'max_depth' : [4,5,6,7,8],\n",
    "    'criterion' :['gini', 'entropy']\n",
    "}"
   ]
  },
  {
   "cell_type": "code",
   "execution_count": 33,
   "id": "e867fce8-57a6-4e8d-aa09-b5b70c590318",
   "metadata": {},
   "outputs": [
    {
     "name": "stdout",
     "output_type": "stream",
     "text": [
      "Fitting 5 folds for each of 40 candidates, totalling 200 fits\n",
      "CPU times: total: 5.34 s\n",
      "Wall time: 2min 59s\n"
     ]
    },
    {
     "data": {
      "text/html": [
       "<style>#sk-container-id-1 {color: black;background-color: white;}#sk-container-id-1 pre{padding: 0;}#sk-container-id-1 div.sk-toggleable {background-color: white;}#sk-container-id-1 label.sk-toggleable__label {cursor: pointer;display: block;width: 100%;margin-bottom: 0;padding: 0.3em;box-sizing: border-box;text-align: center;}#sk-container-id-1 label.sk-toggleable__label-arrow:before {content: \"▸\";float: left;margin-right: 0.25em;color: #696969;}#sk-container-id-1 label.sk-toggleable__label-arrow:hover:before {color: black;}#sk-container-id-1 div.sk-estimator:hover label.sk-toggleable__label-arrow:before {color: black;}#sk-container-id-1 div.sk-toggleable__content {max-height: 0;max-width: 0;overflow: hidden;text-align: left;background-color: #f0f8ff;}#sk-container-id-1 div.sk-toggleable__content pre {margin: 0.2em;color: black;border-radius: 0.25em;background-color: #f0f8ff;}#sk-container-id-1 input.sk-toggleable__control:checked~div.sk-toggleable__content {max-height: 200px;max-width: 100%;overflow: auto;}#sk-container-id-1 input.sk-toggleable__control:checked~label.sk-toggleable__label-arrow:before {content: \"▾\";}#sk-container-id-1 div.sk-estimator input.sk-toggleable__control:checked~label.sk-toggleable__label {background-color: #d4ebff;}#sk-container-id-1 div.sk-label input.sk-toggleable__control:checked~label.sk-toggleable__label {background-color: #d4ebff;}#sk-container-id-1 input.sk-hidden--visually {border: 0;clip: rect(1px 1px 1px 1px);clip: rect(1px, 1px, 1px, 1px);height: 1px;margin: -1px;overflow: hidden;padding: 0;position: absolute;width: 1px;}#sk-container-id-1 div.sk-estimator {font-family: monospace;background-color: #f0f8ff;border: 1px dotted black;border-radius: 0.25em;box-sizing: border-box;margin-bottom: 0.5em;}#sk-container-id-1 div.sk-estimator:hover {background-color: #d4ebff;}#sk-container-id-1 div.sk-parallel-item::after {content: \"\";width: 100%;border-bottom: 1px solid gray;flex-grow: 1;}#sk-container-id-1 div.sk-label:hover label.sk-toggleable__label {background-color: #d4ebff;}#sk-container-id-1 div.sk-serial::before {content: \"\";position: absolute;border-left: 1px solid gray;box-sizing: border-box;top: 0;bottom: 0;left: 50%;z-index: 0;}#sk-container-id-1 div.sk-serial {display: flex;flex-direction: column;align-items: center;background-color: white;padding-right: 0.2em;padding-left: 0.2em;position: relative;}#sk-container-id-1 div.sk-item {position: relative;z-index: 1;}#sk-container-id-1 div.sk-parallel {display: flex;align-items: stretch;justify-content: center;background-color: white;position: relative;}#sk-container-id-1 div.sk-item::before, #sk-container-id-1 div.sk-parallel-item::before {content: \"\";position: absolute;border-left: 1px solid gray;box-sizing: border-box;top: 0;bottom: 0;left: 50%;z-index: -1;}#sk-container-id-1 div.sk-parallel-item {display: flex;flex-direction: column;z-index: 1;position: relative;background-color: white;}#sk-container-id-1 div.sk-parallel-item:first-child::after {align-self: flex-end;width: 50%;}#sk-container-id-1 div.sk-parallel-item:last-child::after {align-self: flex-start;width: 50%;}#sk-container-id-1 div.sk-parallel-item:only-child::after {width: 0;}#sk-container-id-1 div.sk-dashed-wrapped {border: 1px dashed gray;margin: 0 0.4em 0.5em 0.4em;box-sizing: border-box;padding-bottom: 0.4em;background-color: white;}#sk-container-id-1 div.sk-label label {font-family: monospace;font-weight: bold;display: inline-block;line-height: 1.2em;}#sk-container-id-1 div.sk-label-container {text-align: center;}#sk-container-id-1 div.sk-container {/* jupyter's `normalize.less` sets `[hidden] { display: none; }` but bootstrap.min.css set `[hidden] { display: none !important; }` so we also need the `!important` here to be able to override the default hidden behavior on the sphinx rendered scikit-learn.org. See: https://github.com/scikit-learn/scikit-learn/issues/21755 */display: inline-block !important;position: relative;}#sk-container-id-1 div.sk-text-repr-fallback {display: none;}</style><div id=\"sk-container-id-1\" class=\"sk-top-container\"><div class=\"sk-text-repr-fallback\"><pre>GridSearchCV(cv=5, estimator=RandomForestClassifier(random_state=42), n_jobs=-1,\n",
       "             param_grid={&#x27;criterion&#x27;: [&#x27;gini&#x27;, &#x27;entropy&#x27;],\n",
       "                         &#x27;max_depth&#x27;: [4, 5, 6, 7, 8],\n",
       "                         &#x27;max_features&#x27;: [&#x27;sqrt&#x27;, &#x27;log2&#x27;],\n",
       "                         &#x27;n_estimators&#x27;: [200, 500]},\n",
       "             scoring=&#x27;accuracy&#x27;, verbose=1)</pre><b>In a Jupyter environment, please rerun this cell to show the HTML representation or trust the notebook. <br />On GitHub, the HTML representation is unable to render, please try loading this page with nbviewer.org.</b></div><div class=\"sk-container\" hidden><div class=\"sk-item sk-dashed-wrapped\"><div class=\"sk-label-container\"><div class=\"sk-label sk-toggleable\"><input class=\"sk-toggleable__control sk-hidden--visually\" id=\"sk-estimator-id-1\" type=\"checkbox\" ><label for=\"sk-estimator-id-1\" class=\"sk-toggleable__label sk-toggleable__label-arrow\">GridSearchCV</label><div class=\"sk-toggleable__content\"><pre>GridSearchCV(cv=5, estimator=RandomForestClassifier(random_state=42), n_jobs=-1,\n",
       "             param_grid={&#x27;criterion&#x27;: [&#x27;gini&#x27;, &#x27;entropy&#x27;],\n",
       "                         &#x27;max_depth&#x27;: [4, 5, 6, 7, 8],\n",
       "                         &#x27;max_features&#x27;: [&#x27;sqrt&#x27;, &#x27;log2&#x27;],\n",
       "                         &#x27;n_estimators&#x27;: [200, 500]},\n",
       "             scoring=&#x27;accuracy&#x27;, verbose=1)</pre></div></div></div><div class=\"sk-parallel\"><div class=\"sk-parallel-item\"><div class=\"sk-item\"><div class=\"sk-label-container\"><div class=\"sk-label sk-toggleable\"><input class=\"sk-toggleable__control sk-hidden--visually\" id=\"sk-estimator-id-2\" type=\"checkbox\" ><label for=\"sk-estimator-id-2\" class=\"sk-toggleable__label sk-toggleable__label-arrow\">estimator: RandomForestClassifier</label><div class=\"sk-toggleable__content\"><pre>RandomForestClassifier(random_state=42)</pre></div></div></div><div class=\"sk-serial\"><div class=\"sk-item\"><div class=\"sk-estimator sk-toggleable\"><input class=\"sk-toggleable__control sk-hidden--visually\" id=\"sk-estimator-id-3\" type=\"checkbox\" ><label for=\"sk-estimator-id-3\" class=\"sk-toggleable__label sk-toggleable__label-arrow\">RandomForestClassifier</label><div class=\"sk-toggleable__content\"><pre>RandomForestClassifier(random_state=42)</pre></div></div></div></div></div></div></div></div></div></div>"
      ],
      "text/plain": [
       "GridSearchCV(cv=5, estimator=RandomForestClassifier(random_state=42), n_jobs=-1,\n",
       "             param_grid={'criterion': ['gini', 'entropy'],\n",
       "                         'max_depth': [4, 5, 6, 7, 8],\n",
       "                         'max_features': ['sqrt', 'log2'],\n",
       "                         'n_estimators': [200, 500]},\n",
       "             scoring='accuracy', verbose=1)"
      ]
     },
     "execution_count": 33,
     "metadata": {},
     "output_type": "execute_result"
    }
   ],
   "source": [
    "%%time\n",
    "CV_rfc = GridSearchCV(\n",
    "    estimator=RandomForestClassifier(random_state=42), \n",
    "    param_grid=param_grid, \n",
    "    cv=5,\n",
    "    n_jobs=-1,\n",
    "    verbose=1,\n",
    "    scoring='accuracy',\n",
    ")\n",
    "CV_rfc.fit(X_train, y_train)"
   ]
  },
  {
   "cell_type": "code",
   "execution_count": 34,
   "id": "002d2d97-962b-4477-91d5-276296351f28",
   "metadata": {},
   "outputs": [
    {
     "name": "stdout",
     "output_type": "stream",
     "text": [
      "Train classification report:\n",
      "\n",
      "              precision    recall  f1-score   support\n",
      "\n",
      "           0       0.93      0.10      0.18      3729\n",
      "           1       0.54      0.99      0.70      4049\n",
      "\n",
      "    accuracy                           0.56      7778\n",
      "   macro avg       0.74      0.55      0.44      7778\n",
      "weighted avg       0.73      0.56      0.45      7778\n",
      "\n"
     ]
    }
   ],
   "source": [
    "y_train_pred = CV_rfc.predict(X_train)\n",
    "print('Train classification report:\\n')\n",
    "print(classification_report(y_true=y_train, y_pred=y_train_pred))"
   ]
  },
  {
   "cell_type": "code",
   "execution_count": 35,
   "id": "d4e93b20-1317-4051-b68d-a244c9845b5f",
   "metadata": {},
   "outputs": [
    {
     "name": "stdout",
     "output_type": "stream",
     "text": [
      "Test classification report:\n",
      "\n",
      "              precision    recall  f1-score   support\n",
      "\n",
      "           0       0.54      0.05      0.10       415\n",
      "           1       0.52      0.96      0.68       450\n",
      "\n",
      "    accuracy                           0.52       865\n",
      "   macro avg       0.53      0.51      0.39       865\n",
      "weighted avg       0.53      0.52      0.40       865\n",
      "\n"
     ]
    }
   ],
   "source": [
    "y_pred = CV_rfc.predict(X_test)\n",
    "print('Test classification report:\\n')\n",
    "print(classification_report(y_true=y_test, y_pred=y_pred))"
   ]
  },
  {
   "cell_type": "code",
   "execution_count": 36,
   "id": "048c33a1-19aa-4eac-b7b4-36b8decb2031",
   "metadata": {},
   "outputs": [],
   "source": [
    "words_importances = pd.Series(dict(zip(\n",
    "    tfidf_vectorizer.get_feature_names_out(), \n",
    "    CV_rfc.best_estimator_.feature_importances_\n",
    ")))"
   ]
  },
  {
   "cell_type": "code",
   "execution_count": 37,
   "id": "bd1faffa-bd4b-4988-969c-227cab9b34e7",
   "metadata": {},
   "outputs": [
    {
     "data": {
      "text/plain": [
       "good         0.024013\n",
       "rocket       0.014589\n",
       "always       0.014300\n",
       "best         0.012512\n",
       "basically    0.011440\n",
       "months       0.010901\n",
       "next         0.010575\n",
       "things       0.010387\n",
       "day          0.010090\n",
       "like         0.009975\n",
       "probably     0.009905\n",
       "first        0.009790\n",
       "close        0.009287\n",
       "launch       0.008368\n",
       "tesla        0.008219\n",
       "dtype: float64"
      ]
     },
     "execution_count": 37,
     "metadata": {},
     "output_type": "execute_result"
    }
   ],
   "source": [
    "words_importances.sort_values(ascending=False).head(15)"
   ]
  },
  {
   "cell_type": "code",
   "execution_count": 38,
   "id": "8fd37f0c-6ebd-4a3a-a119-47fbc5e1ef2e",
   "metadata": {},
   "outputs": [
    {
     "data": {
      "text/plain": [
       "flaps                  0.000025\n",
       "texas                  0.000049\n",
       "yup                    0.000074\n",
       "approval               0.000087\n",
       "oh                     0.000098\n",
       "left                   0.000098\n",
       "great work             0.000109\n",
       "life multiplanetary    0.000146\n",
       "changes                0.000163\n",
       "miles                  0.000174\n",
       "name                   0.000186\n",
       "agree                  0.000191\n",
       "house                  0.000201\n",
       "million                0.000201\n",
       "flow                   0.000207\n",
       "dtype: float64"
      ]
     },
     "execution_count": 38,
     "metadata": {},
     "output_type": "execute_result"
    }
   ],
   "source": [
    "words_importances.sort_values(ascending=True).head(15)"
   ]
  }
 ],
 "metadata": {
  "kernelspec": {
   "display_name": "Python 3 (ipykernel)",
   "language": "python",
   "name": "python3"
  },
  "language_info": {
   "codemirror_mode": {
    "name": "ipython",
    "version": 3
   },
   "file_extension": ".py",
   "mimetype": "text/x-python",
   "name": "python",
   "nbconvert_exporter": "python",
   "pygments_lexer": "ipython3",
   "version": "3.9.13"
  }
 },
 "nbformat": 4,
 "nbformat_minor": 5
}
