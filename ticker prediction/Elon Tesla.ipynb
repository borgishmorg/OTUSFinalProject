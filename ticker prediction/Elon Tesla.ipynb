{
 "cells": [
  {
   "cell_type": "markdown",
   "id": "0444b3dd-4acd-487a-b388-5e4095af7d5f",
   "metadata": {},
   "source": [
    "Download TSLA data from [yahoo](https://finance.yahoo.com/quote/TSLA/history?p=TSLA)"
   ]
  },
  {
   "cell_type": "code",
   "execution_count": 1,
   "id": "e5937b7a-4c02-43d6-aa86-3cf756dba77b",
   "metadata": {},
   "outputs": [],
   "source": [
    "import re\n",
    "import numpy as np\n",
    "import pandas as pd\n",
    "import seaborn as sns\n",
    "import matplotlib.pyplot as plt\n",
    "\n",
    "from sklearn.linear_model import LogisticRegression, LogisticRegressionCV\n",
    "from sklearn.feature_extraction.text import TfidfVectorizer\n",
    "from sklearn.metrics import classification_report\n",
    "from sklearn.ensemble import RandomForestClassifier\n",
    "from sklearn.model_selection import train_test_split, cross_val_score, GridSearchCV\n",
    "from sklearn.metrics import precision_score"
   ]
  },
  {
   "cell_type": "code",
   "execution_count": 2,
   "id": "335bf27f-21c9-4572-afdf-bcf91a99de74",
   "metadata": {},
   "outputs": [
    {
     "name": "stderr",
     "output_type": "stream",
     "text": [
      "[nltk_data] Downloading package stopwords to\n",
      "[nltk_data]     C:\\Users\\Semon\\AppData\\Roaming\\nltk_data...\n",
      "[nltk_data]   Package stopwords is already up-to-date!\n"
     ]
    }
   ],
   "source": [
    "import nltk\n",
    "from nltk.corpus import stopwords\n",
    "\n",
    "nltk.download('stopwords')\n",
    "stop_words = set(stopwords.words('english')) | {'rt'}"
   ]
  },
  {
   "cell_type": "markdown",
   "id": "e0c8be00-39e9-4b95-86df-01cf2c93fada",
   "metadata": {},
   "source": [
    "## Data loading"
   ]
  },
  {
   "cell_type": "code",
   "execution_count": 3,
   "id": "8ac3d8a8-62c3-47a9-b8cf-c32cd6adedee",
   "metadata": {},
   "outputs": [],
   "source": [
    "# ticker_df_path = 'data/DOGE-USD.csv'\n",
    "# ticker_df_path = 'data/BTC-USD.csv'\n",
    "ticker_df_path = 'data/TSLA.csv'\n",
    "# ticker_df_path = 'data/CNY=X.csv'\n",
    "\n",
    "tweets_df_path = 'data/elon_prepared_tweets.csv'\n",
    "# tweets_df_path = 'data/trump_prepared_tweets.csv'"
   ]
  },
  {
   "cell_type": "code",
   "execution_count": 4,
   "id": "adc4b8e5-2082-44ba-844e-d8a540f610d4",
   "metadata": {},
   "outputs": [
    {
     "data": {
      "text/html": [
       "<div>\n",
       "<style scoped>\n",
       "    .dataframe tbody tr th:only-of-type {\n",
       "        vertical-align: middle;\n",
       "    }\n",
       "\n",
       "    .dataframe tbody tr th {\n",
       "        vertical-align: top;\n",
       "    }\n",
       "\n",
       "    .dataframe thead th {\n",
       "        text-align: right;\n",
       "    }\n",
       "</style>\n",
       "<table border=\"1\" class=\"dataframe\">\n",
       "  <thead>\n",
       "    <tr style=\"text-align: right;\">\n",
       "      <th></th>\n",
       "      <th>Open</th>\n",
       "      <th>High</th>\n",
       "      <th>Low</th>\n",
       "      <th>Close</th>\n",
       "      <th>Adj Close</th>\n",
       "      <th>Volume</th>\n",
       "      <th>NextDayClose</th>\n",
       "    </tr>\n",
       "  </thead>\n",
       "  <tbody>\n",
       "    <tr>\n",
       "      <th>2019-01-01</th>\n",
       "      <td>61.220001</td>\n",
       "      <td>63.026001</td>\n",
       "      <td>59.759998</td>\n",
       "      <td>62.023998</td>\n",
       "      <td>62.023998</td>\n",
       "      <td>58293000</td>\n",
       "      <td>60.071999</td>\n",
       "    </tr>\n",
       "    <tr>\n",
       "      <th>2019-01-02</th>\n",
       "      <td>61.220001</td>\n",
       "      <td>63.026001</td>\n",
       "      <td>59.759998</td>\n",
       "      <td>62.023998</td>\n",
       "      <td>62.023998</td>\n",
       "      <td>58293000</td>\n",
       "      <td>60.071999</td>\n",
       "    </tr>\n",
       "    <tr>\n",
       "      <th>2019-01-03</th>\n",
       "      <td>61.400002</td>\n",
       "      <td>61.880001</td>\n",
       "      <td>59.476002</td>\n",
       "      <td>60.071999</td>\n",
       "      <td>60.071999</td>\n",
       "      <td>34826000</td>\n",
       "      <td>63.537998</td>\n",
       "    </tr>\n",
       "    <tr>\n",
       "      <th>2019-01-04</th>\n",
       "      <td>61.200001</td>\n",
       "      <td>63.599998</td>\n",
       "      <td>60.546001</td>\n",
       "      <td>63.537998</td>\n",
       "      <td>63.537998</td>\n",
       "      <td>36970500</td>\n",
       "      <td>66.991997</td>\n",
       "    </tr>\n",
       "    <tr>\n",
       "      <th>2019-01-05</th>\n",
       "      <td>64.344002</td>\n",
       "      <td>67.348000</td>\n",
       "      <td>63.549999</td>\n",
       "      <td>66.991997</td>\n",
       "      <td>66.991997</td>\n",
       "      <td>37756000</td>\n",
       "      <td>67.070000</td>\n",
       "    </tr>\n",
       "  </tbody>\n",
       "</table>\n",
       "</div>"
      ],
      "text/plain": [
       "                 Open       High        Low      Close  Adj Close    Volume  \\\n",
       "2019-01-01  61.220001  63.026001  59.759998  62.023998  62.023998  58293000   \n",
       "2019-01-02  61.220001  63.026001  59.759998  62.023998  62.023998  58293000   \n",
       "2019-01-03  61.400002  61.880001  59.476002  60.071999  60.071999  34826000   \n",
       "2019-01-04  61.200001  63.599998  60.546001  63.537998  63.537998  36970500   \n",
       "2019-01-05  64.344002  67.348000  63.549999  66.991997  66.991997  37756000   \n",
       "\n",
       "            NextDayClose  \n",
       "2019-01-01     60.071999  \n",
       "2019-01-02     60.071999  \n",
       "2019-01-03     63.537998  \n",
       "2019-01-04     66.991997  \n",
       "2019-01-05     67.070000  "
      ]
     },
     "execution_count": 4,
     "metadata": {},
     "output_type": "execute_result"
    }
   ],
   "source": [
    "ticker_df = pd.read_csv(ticker_df_path)\n",
    "ticker_df.Date = pd.to_datetime(ticker_df.Date)\n",
    "ticker_df.set_index('Date', drop=True, inplace=True)\n",
    "ticker_df['NextDayClose'] = ticker_df.Close.shift(-1)\n",
    "ticker_df = ticker_df.reindex(\n",
    "    pd.date_range(\n",
    "        '2019-01-01', \n",
    "        ticker_df.index.max()\n",
    "    ),\n",
    "    method='backfill',\n",
    ")\n",
    "ticker_df.head()"
   ]
  },
  {
   "cell_type": "code",
   "execution_count": 5,
   "id": "959197b8-35b9-4289-8eed-d2d75fe6ab97",
   "metadata": {},
   "outputs": [
    {
     "name": "stdout",
     "output_type": "stream",
     "text": [
      "<class 'pandas.core.frame.DataFrame'>\n",
      "DatetimeIndex: 1320 entries, 2019-01-01 to 2022-08-12\n",
      "Freq: D\n",
      "Data columns (total 7 columns):\n",
      " #   Column        Non-Null Count  Dtype  \n",
      "---  ------        --------------  -----  \n",
      " 0   Open          1320 non-null   float64\n",
      " 1   High          1320 non-null   float64\n",
      " 2   Low           1320 non-null   float64\n",
      " 3   Close         1320 non-null   float64\n",
      " 4   Adj Close     1320 non-null   float64\n",
      " 5   Volume        1320 non-null   int64  \n",
      " 6   NextDayClose  1319 non-null   float64\n",
      "dtypes: float64(6), int64(1)\n",
      "memory usage: 82.5 KB\n"
     ]
    }
   ],
   "source": [
    "ticker_df.info()"
   ]
  },
  {
   "cell_type": "code",
   "execution_count": 6,
   "id": "79939784-a703-4028-b44f-da49c1b95870",
   "metadata": {},
   "outputs": [
    {
     "data": {
      "image/png": "[encoded data removed]",
      "text/plain": [
       "<Figure size 1152x576 with 1 Axes>"
      ]
     },
     "metadata": {
      "needs_background": "light"
     },
     "output_type": "display_data"
    }
   ],
   "source": [
    "ticker_df.Volume.plot(figsize=(16, 8));"
   ]
  },
  {
   "cell_type": "code",
   "execution_count": 7,
   "id": "377279ae-bef4-4f9b-b476-f673a6fa71a8",
   "metadata": {},
   "outputs": [
    {
     "data": {
      "image/png": "[encoded data removed]",
      "text/plain": [
       "<Figure size 1152x576 with 1 Axes>"
      ]
     },
     "metadata": {
      "needs_background": "light"
     },
     "output_type": "display_data"
    }
   ],
   "source": [
    "ticker_df.Close.plot(figsize=(16, 8));"
   ]
  },
  {
   "cell_type": "code",
   "execution_count": 8,
   "id": "3ce58e1e-1ca5-439d-baa6-6fe85fe45c25",
   "metadata": {},
   "outputs": [
    {
     "data": {
      "text/html": [
       "<div>\n",
       "<style scoped>\n",
       "    .dataframe tbody tr th:only-of-type {\n",
       "        vertical-align: middle;\n",
       "    }\n",
       "\n",
       "    .dataframe tbody tr th {\n",
       "        vertical-align: top;\n",
       "    }\n",
       "\n",
       "    .dataframe thead th {\n",
       "        text-align: right;\n",
       "    }\n",
       "</style>\n",
       "<table border=\"1\" class=\"dataframe\">\n",
       "  <thead>\n",
       "    <tr style=\"text-align: right;\">\n",
       "      <th></th>\n",
       "      <th>text</th>\n",
       "      <th>date</th>\n",
       "      <th>cleared_text</th>\n",
       "      <th>V1</th>\n",
       "      <th>V2</th>\n",
       "      <th>V3</th>\n",
       "      <th>V4</th>\n",
       "      <th>V5</th>\n",
       "      <th>V6</th>\n",
       "      <th>V7</th>\n",
       "      <th>...</th>\n",
       "      <th>V291</th>\n",
       "      <th>V292</th>\n",
       "      <th>V293</th>\n",
       "      <th>V294</th>\n",
       "      <th>V295</th>\n",
       "      <th>V296</th>\n",
       "      <th>V297</th>\n",
       "      <th>V298</th>\n",
       "      <th>V299</th>\n",
       "      <th>V300</th>\n",
       "    </tr>\n",
       "    <tr>\n",
       "      <th>id</th>\n",
       "      <th></th>\n",
       "      <th></th>\n",
       "      <th></th>\n",
       "      <th></th>\n",
       "      <th></th>\n",
       "      <th></th>\n",
       "      <th></th>\n",
       "      <th></th>\n",
       "      <th></th>\n",
       "      <th></th>\n",
       "      <th></th>\n",
       "      <th></th>\n",
       "      <th></th>\n",
       "      <th></th>\n",
       "      <th></th>\n",
       "      <th></th>\n",
       "      <th></th>\n",
       "      <th></th>\n",
       "      <th></th>\n",
       "      <th></th>\n",
       "      <th></th>\n",
       "    </tr>\n",
       "  </thead>\n",
       "  <tbody>\n",
       "    <tr>\n",
       "      <th>1211071324518531072</th>\n",
       "      <td>@Joe__Wakefield @austinbarnard45 @tjq1190 @tyg...</td>\n",
       "      <td>2019-12-28</td>\n",
       "      <td>this is a pretty awful lie i left south africa...</td>\n",
       "      <td>-0.048342</td>\n",
       "      <td>-0.014244</td>\n",
       "      <td>0.016088</td>\n",
       "      <td>0.002211</td>\n",
       "      <td>-0.012234</td>\n",
       "      <td>0.082633</td>\n",
       "      <td>-0.016118</td>\n",
       "      <td>...</td>\n",
       "      <td>-0.000773</td>\n",
       "      <td>-0.019107</td>\n",
       "      <td>-0.039366</td>\n",
       "      <td>0.015982</td>\n",
       "      <td>0.049104</td>\n",
       "      <td>-0.056251</td>\n",
       "      <td>-0.057072</td>\n",
       "      <td>-0.057435</td>\n",
       "      <td>-0.011789</td>\n",
       "      <td>0.036748</td>\n",
       "    </tr>\n",
       "    <tr>\n",
       "      <th>1211069054779301894</th>\n",
       "      <td>@austinbarnard45 @tjq1190 @tyger_cyber @fawful...</td>\n",
       "      <td>2019-12-28</td>\n",
       "      <td>this person blocked me so can t read the tweet...</td>\n",
       "      <td>-0.012730</td>\n",
       "      <td>-0.017078</td>\n",
       "      <td>0.028585</td>\n",
       "      <td>0.025572</td>\n",
       "      <td>-0.045578</td>\n",
       "      <td>0.065623</td>\n",
       "      <td>-0.013617</td>\n",
       "      <td>...</td>\n",
       "      <td>-0.012550</td>\n",
       "      <td>-0.046741</td>\n",
       "      <td>-0.000691</td>\n",
       "      <td>0.019577</td>\n",
       "      <td>0.077184</td>\n",
       "      <td>-0.057226</td>\n",
       "      <td>-0.047901</td>\n",
       "      <td>0.028700</td>\n",
       "      <td>0.011547</td>\n",
       "      <td>0.033419</td>\n",
       "    </tr>\n",
       "    <tr>\n",
       "      <th>1211064937004589056</th>\n",
       "      <td>@IrinaAntony @tjq1190 @tyger_cyber @fawfulfan ...</td>\n",
       "      <td>2019-12-28</td>\n",
       "      <td>we started zip2 with 2k from me plus my overcl...</td>\n",
       "      <td>-0.042071</td>\n",
       "      <td>-0.075559</td>\n",
       "      <td>-0.029521</td>\n",
       "      <td>0.020394</td>\n",
       "      <td>-0.014714</td>\n",
       "      <td>0.073634</td>\n",
       "      <td>-0.013487</td>\n",
       "      <td>...</td>\n",
       "      <td>-0.022040</td>\n",
       "      <td>-0.001922</td>\n",
       "      <td>-0.011946</td>\n",
       "      <td>0.028490</td>\n",
       "      <td>0.086696</td>\n",
       "      <td>-0.028041</td>\n",
       "      <td>-0.038507</td>\n",
       "      <td>-0.005319</td>\n",
       "      <td>0.075069</td>\n",
       "      <td>-0.058273</td>\n",
       "    </tr>\n",
       "    <tr>\n",
       "      <th>1211054942192119808</th>\n",
       "      <td>@tjq1190 @tyger_cyber @fawfulfan @_Mikemo He d...</td>\n",
       "      <td>2019-12-28</td>\n",
       "      <td>he didn t own an emerald mine i worked my way ...</td>\n",
       "      <td>-0.026122</td>\n",
       "      <td>-0.068418</td>\n",
       "      <td>0.031035</td>\n",
       "      <td>-0.038473</td>\n",
       "      <td>-0.031547</td>\n",
       "      <td>0.080213</td>\n",
       "      <td>-0.034022</td>\n",
       "      <td>...</td>\n",
       "      <td>0.003521</td>\n",
       "      <td>-0.032675</td>\n",
       "      <td>-0.035726</td>\n",
       "      <td>-0.006440</td>\n",
       "      <td>0.051075</td>\n",
       "      <td>-0.005771</td>\n",
       "      <td>-0.002485</td>\n",
       "      <td>-0.073661</td>\n",
       "      <td>-0.000422</td>\n",
       "      <td>0.012104</td>\n",
       "    </tr>\n",
       "    <tr>\n",
       "      <th>1211051740562366464</th>\n",
       "      <td>@geofficient Pretty much</td>\n",
       "      <td>2019-12-28</td>\n",
       "      <td>pretty much</td>\n",
       "      <td>-0.061854</td>\n",
       "      <td>-0.111202</td>\n",
       "      <td>0.020066</td>\n",
       "      <td>0.037324</td>\n",
       "      <td>-0.120143</td>\n",
       "      <td>0.163722</td>\n",
       "      <td>-0.013768</td>\n",
       "      <td>...</td>\n",
       "      <td>0.025169</td>\n",
       "      <td>-0.046883</td>\n",
       "      <td>-0.015783</td>\n",
       "      <td>0.062415</td>\n",
       "      <td>0.068658</td>\n",
       "      <td>-0.104441</td>\n",
       "      <td>-0.167005</td>\n",
       "      <td>0.059559</td>\n",
       "      <td>0.263472</td>\n",
       "      <td>0.011272</td>\n",
       "    </tr>\n",
       "  </tbody>\n",
       "</table>\n",
       "<p>5 rows × 303 columns</p>\n",
       "</div>"
      ],
      "text/plain": [
       "                                                                  text  \\\n",
       "id                                                                       \n",
       "1211071324518531072  @Joe__Wakefield @austinbarnard45 @tjq1190 @tyg...   \n",
       "1211069054779301894  @austinbarnard45 @tjq1190 @tyger_cyber @fawful...   \n",
       "1211064937004589056  @IrinaAntony @tjq1190 @tyger_cyber @fawfulfan ...   \n",
       "1211054942192119808  @tjq1190 @tyger_cyber @fawfulfan @_Mikemo He d...   \n",
       "1211051740562366464                           @geofficient Pretty much   \n",
       "\n",
       "                          date  \\\n",
       "id                               \n",
       "1211071324518531072 2019-12-28   \n",
       "1211069054779301894 2019-12-28   \n",
       "1211064937004589056 2019-12-28   \n",
       "1211054942192119808 2019-12-28   \n",
       "1211051740562366464 2019-12-28   \n",
       "\n",
       "                                                          cleared_text  \\\n",
       "id                                                                       \n",
       "1211071324518531072  this is a pretty awful lie i left south africa...   \n",
       "1211069054779301894  this person blocked me so can t read the tweet...   \n",
       "1211064937004589056  we started zip2 with 2k from me plus my overcl...   \n",
       "1211054942192119808  he didn t own an emerald mine i worked my way ...   \n",
       "1211051740562366464                                        pretty much   \n",
       "\n",
       "                           V1        V2        V3        V4        V5  \\\n",
       "id                                                                      \n",
       "1211071324518531072 -0.048342 -0.014244  0.016088  0.002211 -0.012234   \n",
       "1211069054779301894 -0.012730 -0.017078  0.028585  0.025572 -0.045578   \n",
       "1211064937004589056 -0.042071 -0.075559 -0.029521  0.020394 -0.014714   \n",
       "1211054942192119808 -0.026122 -0.068418  0.031035 -0.038473 -0.031547   \n",
       "1211051740562366464 -0.061854 -0.111202  0.020066  0.037324 -0.120143   \n",
       "\n",
       "                           V6        V7  ...      V291      V292      V293  \\\n",
       "id                                       ...                                 \n",
       "1211071324518531072  0.082633 -0.016118  ... -0.000773 -0.019107 -0.039366   \n",
       "1211069054779301894  0.065623 -0.013617  ... -0.012550 -0.046741 -0.000691   \n",
       "1211064937004589056  0.073634 -0.013487  ... -0.022040 -0.001922 -0.011946   \n",
       "1211054942192119808  0.080213 -0.034022  ...  0.003521 -0.032675 -0.035726   \n",
       "1211051740562366464  0.163722 -0.013768  ...  0.025169 -0.046883 -0.015783   \n",
       "\n",
       "                         V294      V295      V296      V297      V298  \\\n",
       "id                                                                      \n",
       "1211071324518531072  0.015982  0.049104 -0.056251 -0.057072 -0.057435   \n",
       "1211069054779301894  0.019577  0.077184 -0.057226 -0.047901  0.028700   \n",
       "1211064937004589056  0.028490  0.086696 -0.028041 -0.038507 -0.005319   \n",
       "1211054942192119808 -0.006440  0.051075 -0.005771 -0.002485 -0.073661   \n",
       "1211051740562366464  0.062415  0.068658 -0.104441 -0.167005  0.059559   \n",
       "\n",
       "                         V299      V300  \n",
       "id                                       \n",
       "1211071324518531072 -0.011789  0.036748  \n",
       "1211069054779301894  0.011547  0.033419  \n",
       "1211064937004589056  0.075069 -0.058273  \n",
       "1211054942192119808 -0.000422  0.012104  \n",
       "1211051740562366464  0.263472  0.011272  \n",
       "\n",
       "[5 rows x 303 columns]"
      ]
     },
     "execution_count": 8,
     "metadata": {},
     "output_type": "execute_result"
    }
   ],
   "source": [
    "tweets_df = pd.read_csv(tweets_df_path, index_col='id', parse_dates=['date'])\n",
    "tweets_df.head()"
   ]
  },
  {
   "cell_type": "code",
   "execution_count": 9,
   "id": "150487ce-66e3-48aa-b29a-8a69ef1bd982",
   "metadata": {},
   "outputs": [],
   "source": [
    "# tweets_df = tweets_df[tweets_df.cleared_text.str.contains('doge')]"
   ]
  },
  {
   "cell_type": "code",
   "execution_count": 10,
   "id": "9fece4fc-8f56-484f-8396-301dcd34fee6",
   "metadata": {},
   "outputs": [
    {
     "name": "stdout",
     "output_type": "stream",
     "text": [
      "<class 'pandas.core.frame.DataFrame'>\n",
      "Int64Index: 8643 entries, 1211071324518531072 to 1344810193952014336\n",
      "Columns: 303 entries, text to V300\n",
      "dtypes: datetime64[ns](1), float64(300), object(2)\n",
      "memory usage: 20.0+ MB\n"
     ]
    }
   ],
   "source": [
    "tweets_df.info()"
   ]
  },
  {
   "cell_type": "code",
   "execution_count": 11,
   "id": "5c97b54a-8efd-48b3-b806-9df3aa1503e7",
   "metadata": {},
   "outputs": [
    {
     "data": {
      "image/png": "[encoded data removed]",
      "text/plain": [
       "<Figure size 1152x576 with 1 Axes>"
      ]
     },
     "metadata": {
      "needs_background": "light"
     },
     "output_type": "display_data"
    }
   ],
   "source": [
    "ticker_df.Close.plot(figsize=(16, 8));\n",
    "for xc in set(tweets_df.date): # [tweets_df.cleared_text.str.contains('doge')]\n",
    "    plt.axvline(x=xc, color='red', dashes=(0.2, 1))"
   ]
  },
  {
   "cell_type": "code",
   "execution_count": 12,
   "id": "df5b4f6c-f4c8-40c1-a8c1-ab19bd306276",
   "metadata": {},
   "outputs": [],
   "source": [
    "tweets_df['ticker_grow_in_this_day'] = tweets_df.apply(\n",
    "    lambda r: ticker_df.loc[r['date']], \n",
    "    axis=1\n",
    ").apply(\n",
    "    lambda r: np.int32(r.Open > r.NextDayClose), \n",
    "    axis=1\n",
    ")"
   ]
  },
  {
   "cell_type": "code",
   "execution_count": 13,
   "id": "1a82b027-e59d-4ebd-8ba3-8ae271159735",
   "metadata": {},
   "outputs": [
    {
     "data": {
      "text/plain": [
       "0.4246210806432952"
      ]
     },
     "execution_count": 13,
     "metadata": {},
     "output_type": "execute_result"
    }
   ],
   "source": [
    "tweets_df['ticker_grow_in_this_day'].mean()"
   ]
  },
  {
   "cell_type": "code",
   "execution_count": 14,
   "id": "0e7f78d8-700e-4c11-9f5d-702a1dd1723f",
   "metadata": {},
   "outputs": [
    {
     "data": {
      "text/html": [
       "<div>\n",
       "<style scoped>\n",
       "    .dataframe tbody tr th:only-of-type {\n",
       "        vertical-align: middle;\n",
       "    }\n",
       "\n",
       "    .dataframe tbody tr th {\n",
       "        vertical-align: top;\n",
       "    }\n",
       "\n",
       "    .dataframe thead th {\n",
       "        text-align: right;\n",
       "    }\n",
       "</style>\n",
       "<table border=\"1\" class=\"dataframe\">\n",
       "  <thead>\n",
       "    <tr style=\"text-align: right;\">\n",
       "      <th></th>\n",
       "      <th>text</th>\n",
       "      <th>date</th>\n",
       "      <th>cleared_text</th>\n",
       "      <th>V1</th>\n",
       "      <th>V2</th>\n",
       "      <th>V3</th>\n",
       "      <th>V4</th>\n",
       "      <th>V5</th>\n",
       "      <th>V6</th>\n",
       "      <th>V7</th>\n",
       "      <th>...</th>\n",
       "      <th>V292</th>\n",
       "      <th>V293</th>\n",
       "      <th>V294</th>\n",
       "      <th>V295</th>\n",
       "      <th>V296</th>\n",
       "      <th>V297</th>\n",
       "      <th>V298</th>\n",
       "      <th>V299</th>\n",
       "      <th>V300</th>\n",
       "      <th>ticker_grow_in_this_day</th>\n",
       "    </tr>\n",
       "    <tr>\n",
       "      <th>id</th>\n",
       "      <th></th>\n",
       "      <th></th>\n",
       "      <th></th>\n",
       "      <th></th>\n",
       "      <th></th>\n",
       "      <th></th>\n",
       "      <th></th>\n",
       "      <th></th>\n",
       "      <th></th>\n",
       "      <th></th>\n",
       "      <th></th>\n",
       "      <th></th>\n",
       "      <th></th>\n",
       "      <th></th>\n",
       "      <th></th>\n",
       "      <th></th>\n",
       "      <th></th>\n",
       "      <th></th>\n",
       "      <th></th>\n",
       "      <th></th>\n",
       "      <th></th>\n",
       "    </tr>\n",
       "  </thead>\n",
       "  <tbody>\n",
       "    <tr>\n",
       "      <th>1211071324518531072</th>\n",
       "      <td>@Joe__Wakefield @austinbarnard45 @tjq1190 @tyg...</td>\n",
       "      <td>2019-12-28</td>\n",
       "      <td>this is a pretty awful lie i left south africa...</td>\n",
       "      <td>-0.048342</td>\n",
       "      <td>-0.014244</td>\n",
       "      <td>0.016088</td>\n",
       "      <td>0.002211</td>\n",
       "      <td>-0.012234</td>\n",
       "      <td>0.082633</td>\n",
       "      <td>-0.016118</td>\n",
       "      <td>...</td>\n",
       "      <td>-0.019107</td>\n",
       "      <td>-0.039366</td>\n",
       "      <td>0.015982</td>\n",
       "      <td>0.049104</td>\n",
       "      <td>-0.056251</td>\n",
       "      <td>-0.057072</td>\n",
       "      <td>-0.057435</td>\n",
       "      <td>-0.011789</td>\n",
       "      <td>0.036748</td>\n",
       "      <td>1</td>\n",
       "    </tr>\n",
       "    <tr>\n",
       "      <th>1211069054779301894</th>\n",
       "      <td>@austinbarnard45 @tjq1190 @tyger_cyber @fawful...</td>\n",
       "      <td>2019-12-28</td>\n",
       "      <td>this person blocked me so can t read the tweet...</td>\n",
       "      <td>-0.012730</td>\n",
       "      <td>-0.017078</td>\n",
       "      <td>0.028585</td>\n",
       "      <td>0.025572</td>\n",
       "      <td>-0.045578</td>\n",
       "      <td>0.065623</td>\n",
       "      <td>-0.013617</td>\n",
       "      <td>...</td>\n",
       "      <td>-0.046741</td>\n",
       "      <td>-0.000691</td>\n",
       "      <td>0.019577</td>\n",
       "      <td>0.077184</td>\n",
       "      <td>-0.057226</td>\n",
       "      <td>-0.047901</td>\n",
       "      <td>0.028700</td>\n",
       "      <td>0.011547</td>\n",
       "      <td>0.033419</td>\n",
       "      <td>1</td>\n",
       "    </tr>\n",
       "    <tr>\n",
       "      <th>1211064937004589056</th>\n",
       "      <td>@IrinaAntony @tjq1190 @tyger_cyber @fawfulfan ...</td>\n",
       "      <td>2019-12-28</td>\n",
       "      <td>we started zip2 with 2k from me plus my overcl...</td>\n",
       "      <td>-0.042071</td>\n",
       "      <td>-0.075559</td>\n",
       "      <td>-0.029521</td>\n",
       "      <td>0.020394</td>\n",
       "      <td>-0.014714</td>\n",
       "      <td>0.073634</td>\n",
       "      <td>-0.013487</td>\n",
       "      <td>...</td>\n",
       "      <td>-0.001922</td>\n",
       "      <td>-0.011946</td>\n",
       "      <td>0.028490</td>\n",
       "      <td>0.086696</td>\n",
       "      <td>-0.028041</td>\n",
       "      <td>-0.038507</td>\n",
       "      <td>-0.005319</td>\n",
       "      <td>0.075069</td>\n",
       "      <td>-0.058273</td>\n",
       "      <td>1</td>\n",
       "    </tr>\n",
       "    <tr>\n",
       "      <th>1211054942192119808</th>\n",
       "      <td>@tjq1190 @tyger_cyber @fawfulfan @_Mikemo He d...</td>\n",
       "      <td>2019-12-28</td>\n",
       "      <td>he didn t own an emerald mine i worked my way ...</td>\n",
       "      <td>-0.026122</td>\n",
       "      <td>-0.068418</td>\n",
       "      <td>0.031035</td>\n",
       "      <td>-0.038473</td>\n",
       "      <td>-0.031547</td>\n",
       "      <td>0.080213</td>\n",
       "      <td>-0.034022</td>\n",
       "      <td>...</td>\n",
       "      <td>-0.032675</td>\n",
       "      <td>-0.035726</td>\n",
       "      <td>-0.006440</td>\n",
       "      <td>0.051075</td>\n",
       "      <td>-0.005771</td>\n",
       "      <td>-0.002485</td>\n",
       "      <td>-0.073661</td>\n",
       "      <td>-0.000422</td>\n",
       "      <td>0.012104</td>\n",
       "      <td>1</td>\n",
       "    </tr>\n",
       "    <tr>\n",
       "      <th>1211051740562366464</th>\n",
       "      <td>@geofficient Pretty much</td>\n",
       "      <td>2019-12-28</td>\n",
       "      <td>pretty much</td>\n",
       "      <td>-0.061854</td>\n",
       "      <td>-0.111202</td>\n",
       "      <td>0.020066</td>\n",
       "      <td>0.037324</td>\n",
       "      <td>-0.120143</td>\n",
       "      <td>0.163722</td>\n",
       "      <td>-0.013768</td>\n",
       "      <td>...</td>\n",
       "      <td>-0.046883</td>\n",
       "      <td>-0.015783</td>\n",
       "      <td>0.062415</td>\n",
       "      <td>0.068658</td>\n",
       "      <td>-0.104441</td>\n",
       "      <td>-0.167005</td>\n",
       "      <td>0.059559</td>\n",
       "      <td>0.263472</td>\n",
       "      <td>0.011272</td>\n",
       "      <td>1</td>\n",
       "    </tr>\n",
       "  </tbody>\n",
       "</table>\n",
       "<p>5 rows × 304 columns</p>\n",
       "</div>"
      ],
      "text/plain": [
       "                                                                  text  \\\n",
       "id                                                                       \n",
       "1211071324518531072  @Joe__Wakefield @austinbarnard45 @tjq1190 @tyg...   \n",
       "1211069054779301894  @austinbarnard45 @tjq1190 @tyger_cyber @fawful...   \n",
       "1211064937004589056  @IrinaAntony @tjq1190 @tyger_cyber @fawfulfan ...   \n",
       "1211054942192119808  @tjq1190 @tyger_cyber @fawfulfan @_Mikemo He d...   \n",
       "1211051740562366464                           @geofficient Pretty much   \n",
       "\n",
       "                          date  \\\n",
       "id                               \n",
       "1211071324518531072 2019-12-28   \n",
       "1211069054779301894 2019-12-28   \n",
       "1211064937004589056 2019-12-28   \n",
       "1211054942192119808 2019-12-28   \n",
       "1211051740562366464 2019-12-28   \n",
       "\n",
       "                                                          cleared_text  \\\n",
       "id                                                                       \n",
       "1211071324518531072  this is a pretty awful lie i left south africa...   \n",
       "1211069054779301894  this person blocked me so can t read the tweet...   \n",
       "1211064937004589056  we started zip2 with 2k from me plus my overcl...   \n",
       "1211054942192119808  he didn t own an emerald mine i worked my way ...   \n",
       "1211051740562366464                                        pretty much   \n",
       "\n",
       "                           V1        V2        V3        V4        V5  \\\n",
       "id                                                                      \n",
       "1211071324518531072 -0.048342 -0.014244  0.016088  0.002211 -0.012234   \n",
       "1211069054779301894 -0.012730 -0.017078  0.028585  0.025572 -0.045578   \n",
       "1211064937004589056 -0.042071 -0.075559 -0.029521  0.020394 -0.014714   \n",
       "1211054942192119808 -0.026122 -0.068418  0.031035 -0.038473 -0.031547   \n",
       "1211051740562366464 -0.061854 -0.111202  0.020066  0.037324 -0.120143   \n",
       "\n",
       "                           V6        V7  ...      V292      V293      V294  \\\n",
       "id                                       ...                                 \n",
       "1211071324518531072  0.082633 -0.016118  ... -0.019107 -0.039366  0.015982   \n",
       "1211069054779301894  0.065623 -0.013617  ... -0.046741 -0.000691  0.019577   \n",
       "1211064937004589056  0.073634 -0.013487  ... -0.001922 -0.011946  0.028490   \n",
       "1211054942192119808  0.080213 -0.034022  ... -0.032675 -0.035726 -0.006440   \n",
       "1211051740562366464  0.163722 -0.013768  ... -0.046883 -0.015783  0.062415   \n",
       "\n",
       "                         V295      V296      V297      V298      V299  \\\n",
       "id                                                                      \n",
       "1211071324518531072  0.049104 -0.056251 -0.057072 -0.057435 -0.011789   \n",
       "1211069054779301894  0.077184 -0.057226 -0.047901  0.028700  0.011547   \n",
       "1211064937004589056  0.086696 -0.028041 -0.038507 -0.005319  0.075069   \n",
       "1211054942192119808  0.051075 -0.005771 -0.002485 -0.073661 -0.000422   \n",
       "1211051740562366464  0.068658 -0.104441 -0.167005  0.059559  0.263472   \n",
       "\n",
       "                         V300  ticker_grow_in_this_day  \n",
       "id                                                      \n",
       "1211071324518531072  0.036748                        1  \n",
       "1211069054779301894  0.033419                        1  \n",
       "1211064937004589056 -0.058273                        1  \n",
       "1211054942192119808  0.012104                        1  \n",
       "1211051740562366464  0.011272                        1  \n",
       "\n",
       "[5 rows x 304 columns]"
      ]
     },
     "execution_count": 14,
     "metadata": {},
     "output_type": "execute_result"
    }
   ],
   "source": [
    "tweets_df.head()"
   ]
  },
  {
   "cell_type": "code",
   "execution_count": 15,
   "id": "01daaf88-0b7f-4612-b553-967612d20277",
   "metadata": {},
   "outputs": [],
   "source": [
    "words_on_grow_df = pd.DataFrame({\n",
    "    'words': tweets_df.cleared_text.str.split().apply(set),\n",
    "    'ticker_grow_in_this_day': tweets_df.ticker_grow_in_this_day,\n",
    "}).explode('words')\n",
    "\n",
    "words_in_tweets = pd.DataFrame({\n",
    "    'tweets_ratio': words_on_grow_df.groupby('words')['ticker_grow_in_this_day'].count() / len(tweets_df),\n",
    "    'tweets_grow_ratio': (\n",
    "        words_on_grow_df.query('ticker_grow_in_this_day == 1').groupby('words')['ticker_grow_in_this_day'].count() \n",
    "        / len(tweets_df.query('ticker_grow_in_this_day == 1'))\n",
    "    ),\n",
    "    'tweets_fall_ratio': (\n",
    "        words_on_grow_df.query('ticker_grow_in_this_day == 0').groupby('words')['ticker_grow_in_this_day'].count() \n",
    "        / len(tweets_df.query('ticker_grow_in_this_day == 0'))\n",
    "    ),\n",
    "}).fillna(0).query('tweets_ratio > 0.001')\n",
    "words_in_tweets['grow_delta'] = (words_in_tweets.tweets_grow_ratio - words_in_tweets.tweets_ratio) / words_in_tweets.tweets_ratio\n",
    "words_in_tweets['fall_delta'] = (words_in_tweets.tweets_fall_ratio - words_in_tweets.tweets_ratio) / words_in_tweets.tweets_ratio"
   ]
  },
  {
   "cell_type": "code",
   "execution_count": 16,
   "id": "90973499-b349-4b69-a31f-f74c9a697664",
   "metadata": {},
   "outputs": [
    {
     "data": {
      "text/html": [
       "<div>\n",
       "<style scoped>\n",
       "    .dataframe tbody tr th:only-of-type {\n",
       "        vertical-align: middle;\n",
       "    }\n",
       "\n",
       "    .dataframe tbody tr th {\n",
       "        vertical-align: top;\n",
       "    }\n",
       "\n",
       "    .dataframe thead th {\n",
       "        text-align: right;\n",
       "    }\n",
       "</style>\n",
       "<table border=\"1\" class=\"dataframe\">\n",
       "  <thead>\n",
       "    <tr style=\"text-align: right;\">\n",
       "      <th></th>\n",
       "      <th>tweets_ratio</th>\n",
       "      <th>tweets_grow_ratio</th>\n",
       "      <th>tweets_fall_ratio</th>\n",
       "      <th>grow_delta</th>\n",
       "      <th>fall_delta</th>\n",
       "    </tr>\n",
       "    <tr>\n",
       "      <th>words</th>\n",
       "      <th></th>\n",
       "      <th></th>\n",
       "      <th></th>\n",
       "      <th></th>\n",
       "      <th></th>\n",
       "    </tr>\n",
       "  </thead>\n",
       "  <tbody>\n",
       "    <tr>\n",
       "      <th>timing</th>\n",
       "      <td>0.001041</td>\n",
       "      <td>0.002452</td>\n",
       "      <td>0.000000</td>\n",
       "      <td>1.355041</td>\n",
       "      <td>-1.000000</td>\n",
       "    </tr>\n",
       "    <tr>\n",
       "      <th>june</th>\n",
       "      <td>0.001041</td>\n",
       "      <td>0.002180</td>\n",
       "      <td>0.000201</td>\n",
       "      <td>1.093370</td>\n",
       "      <td>-0.806891</td>\n",
       "    </tr>\n",
       "    <tr>\n",
       "      <th>successful</th>\n",
       "      <td>0.001388</td>\n",
       "      <td>0.002725</td>\n",
       "      <td>0.000402</td>\n",
       "      <td>0.962534</td>\n",
       "      <td>-0.710336</td>\n",
       "    </tr>\n",
       "    <tr>\n",
       "      <th>enhanced</th>\n",
       "      <td>0.001157</td>\n",
       "      <td>0.002180</td>\n",
       "      <td>0.000402</td>\n",
       "      <td>0.884033</td>\n",
       "      <td>-0.652403</td>\n",
       "    </tr>\n",
       "    <tr>\n",
       "      <th>care</th>\n",
       "      <td>0.002198</td>\n",
       "      <td>0.004087</td>\n",
       "      <td>0.000804</td>\n",
       "      <td>0.859243</td>\n",
       "      <td>-0.634108</td>\n",
       "    </tr>\n",
       "    <tr>\n",
       "      <th>combustion</th>\n",
       "      <td>0.002661</td>\n",
       "      <td>0.004905</td>\n",
       "      <td>0.001005</td>\n",
       "      <td>0.843075</td>\n",
       "      <td>-0.622177</td>\n",
       "    </tr>\n",
       "    <tr>\n",
       "      <th>fiber</th>\n",
       "      <td>0.001041</td>\n",
       "      <td>0.001907</td>\n",
       "      <td>0.000402</td>\n",
       "      <td>0.831698</td>\n",
       "      <td>-0.613781</td>\n",
       "    </tr>\n",
       "    <tr>\n",
       "      <th>march</th>\n",
       "      <td>0.001041</td>\n",
       "      <td>0.001907</td>\n",
       "      <td>0.000402</td>\n",
       "      <td>0.831698</td>\n",
       "      <td>-0.613781</td>\n",
       "    </tr>\n",
       "    <tr>\n",
       "      <th>updates</th>\n",
       "      <td>0.001041</td>\n",
       "      <td>0.001907</td>\n",
       "      <td>0.000402</td>\n",
       "      <td>0.831698</td>\n",
       "      <td>-0.613781</td>\n",
       "    </tr>\n",
       "    <tr>\n",
       "      <th>motors</th>\n",
       "      <td>0.001388</td>\n",
       "      <td>0.002452</td>\n",
       "      <td>0.000603</td>\n",
       "      <td>0.766281</td>\n",
       "      <td>-0.565504</td>\n",
       "    </tr>\n",
       "  </tbody>\n",
       "</table>\n",
       "</div>"
      ],
      "text/plain": [
       "            tweets_ratio  tweets_grow_ratio  tweets_fall_ratio  grow_delta  \\\n",
       "words                                                                        \n",
       "timing          0.001041           0.002452           0.000000    1.355041   \n",
       "june            0.001041           0.002180           0.000201    1.093370   \n",
       "successful      0.001388           0.002725           0.000402    0.962534   \n",
       "enhanced        0.001157           0.002180           0.000402    0.884033   \n",
       "care            0.002198           0.004087           0.000804    0.859243   \n",
       "combustion      0.002661           0.004905           0.001005    0.843075   \n",
       "fiber           0.001041           0.001907           0.000402    0.831698   \n",
       "march           0.001041           0.001907           0.000402    0.831698   \n",
       "updates         0.001041           0.001907           0.000402    0.831698   \n",
       "motors          0.001388           0.002452           0.000603    0.766281   \n",
       "\n",
       "            fall_delta  \n",
       "words                   \n",
       "timing       -1.000000  \n",
       "june         -0.806891  \n",
       "successful   -0.710336  \n",
       "enhanced     -0.652403  \n",
       "care         -0.634108  \n",
       "combustion   -0.622177  \n",
       "fiber        -0.613781  \n",
       "march        -0.613781  \n",
       "updates      -0.613781  \n",
       "motors       -0.565504  "
      ]
     },
     "execution_count": 16,
     "metadata": {},
     "output_type": "execute_result"
    }
   ],
   "source": [
    "words_in_tweets.sort_values(by='grow_delta', ascending=False).head(10)"
   ]
  },
  {
   "cell_type": "code",
   "execution_count": 17,
   "id": "a1fce992-4a0f-4857-bae9-8364a56009de",
   "metadata": {},
   "outputs": [
    {
     "data": {
      "text/html": [
       "<div>\n",
       "<style scoped>\n",
       "    .dataframe tbody tr th:only-of-type {\n",
       "        vertical-align: middle;\n",
       "    }\n",
       "\n",
       "    .dataframe tbody tr th {\n",
       "        vertical-align: top;\n",
       "    }\n",
       "\n",
       "    .dataframe thead th {\n",
       "        text-align: right;\n",
       "    }\n",
       "</style>\n",
       "<table border=\"1\" class=\"dataframe\">\n",
       "  <thead>\n",
       "    <tr style=\"text-align: right;\">\n",
       "      <th></th>\n",
       "      <th>tweets_ratio</th>\n",
       "      <th>tweets_grow_ratio</th>\n",
       "      <th>tweets_fall_ratio</th>\n",
       "      <th>grow_delta</th>\n",
       "      <th>fall_delta</th>\n",
       "    </tr>\n",
       "    <tr>\n",
       "      <th>words</th>\n",
       "      <th></th>\n",
       "      <th></th>\n",
       "      <th></th>\n",
       "      <th></th>\n",
       "      <th></th>\n",
       "    </tr>\n",
       "  </thead>\n",
       "  <tbody>\n",
       "    <tr>\n",
       "      <th>final</th>\n",
       "      <td>0.001967</td>\n",
       "      <td>0.000272</td>\n",
       "      <td>0.003217</td>\n",
       "      <td>-0.861468</td>\n",
       "      <td>0.635751</td>\n",
       "    </tr>\n",
       "    <tr>\n",
       "      <th>august</th>\n",
       "      <td>0.001504</td>\n",
       "      <td>0.000272</td>\n",
       "      <td>0.002413</td>\n",
       "      <td>-0.818843</td>\n",
       "      <td>0.604294</td>\n",
       "    </tr>\n",
       "    <tr>\n",
       "      <th>versions</th>\n",
       "      <td>0.001273</td>\n",
       "      <td>0.000272</td>\n",
       "      <td>0.002011</td>\n",
       "      <td>-0.785905</td>\n",
       "      <td>0.579986</td>\n",
       "    </tr>\n",
       "    <tr>\n",
       "      <th>output</th>\n",
       "      <td>0.001273</td>\n",
       "      <td>0.000272</td>\n",
       "      <td>0.002011</td>\n",
       "      <td>-0.785905</td>\n",
       "      <td>0.579986</td>\n",
       "    </tr>\n",
       "    <tr>\n",
       "      <th>fees</th>\n",
       "      <td>0.001157</td>\n",
       "      <td>0.000272</td>\n",
       "      <td>0.001810</td>\n",
       "      <td>-0.764496</td>\n",
       "      <td>0.564187</td>\n",
       "    </tr>\n",
       "    <tr>\n",
       "      <th>nor</th>\n",
       "      <td>0.001157</td>\n",
       "      <td>0.000272</td>\n",
       "      <td>0.001810</td>\n",
       "      <td>-0.764496</td>\n",
       "      <td>0.564187</td>\n",
       "    </tr>\n",
       "    <tr>\n",
       "      <th>weren</th>\n",
       "      <td>0.001157</td>\n",
       "      <td>0.000272</td>\n",
       "      <td>0.001810</td>\n",
       "      <td>-0.764496</td>\n",
       "      <td>0.564187</td>\n",
       "    </tr>\n",
       "    <tr>\n",
       "      <th>guess</th>\n",
       "      <td>0.002198</td>\n",
       "      <td>0.000545</td>\n",
       "      <td>0.003418</td>\n",
       "      <td>-0.752101</td>\n",
       "      <td>0.555039</td>\n",
       "    </tr>\n",
       "    <tr>\n",
       "      <th>spent</th>\n",
       "      <td>0.001041</td>\n",
       "      <td>0.000272</td>\n",
       "      <td>0.001609</td>\n",
       "      <td>-0.738329</td>\n",
       "      <td>0.544876</td>\n",
       "    </tr>\n",
       "    <tr>\n",
       "      <th>hover</th>\n",
       "      <td>0.001041</td>\n",
       "      <td>0.000272</td>\n",
       "      <td>0.001609</td>\n",
       "      <td>-0.738329</td>\n",
       "      <td>0.544876</td>\n",
       "    </tr>\n",
       "  </tbody>\n",
       "</table>\n",
       "</div>"
      ],
      "text/plain": [
       "          tweets_ratio  tweets_grow_ratio  tweets_fall_ratio  grow_delta  \\\n",
       "words                                                                      \n",
       "final         0.001967           0.000272           0.003217   -0.861468   \n",
       "august        0.001504           0.000272           0.002413   -0.818843   \n",
       "versions      0.001273           0.000272           0.002011   -0.785905   \n",
       "output        0.001273           0.000272           0.002011   -0.785905   \n",
       "fees          0.001157           0.000272           0.001810   -0.764496   \n",
       "nor           0.001157           0.000272           0.001810   -0.764496   \n",
       "weren         0.001157           0.000272           0.001810   -0.764496   \n",
       "guess         0.002198           0.000545           0.003418   -0.752101   \n",
       "spent         0.001041           0.000272           0.001609   -0.738329   \n",
       "hover         0.001041           0.000272           0.001609   -0.738329   \n",
       "\n",
       "          fall_delta  \n",
       "words                 \n",
       "final       0.635751  \n",
       "august      0.604294  \n",
       "versions    0.579986  \n",
       "output      0.579986  \n",
       "fees        0.564187  \n",
       "nor         0.564187  \n",
       "weren       0.564187  \n",
       "guess       0.555039  \n",
       "spent       0.544876  \n",
       "hover       0.544876  "
      ]
     },
     "execution_count": 17,
     "metadata": {},
     "output_type": "execute_result"
    }
   ],
   "source": [
    "words_in_tweets.sort_values(by='fall_delta', ascending=False).head(10)"
   ]
  },
  {
   "cell_type": "markdown",
   "id": "81832a23-0a4c-449e-9e62-64050cafdb36",
   "metadata": {},
   "source": [
    "## TF-IDF. Logistic regression"
   ]
  },
  {
   "cell_type": "code",
   "execution_count": 18,
   "id": "52a918a2-7555-44d0-a11e-f40bdb2c3eee",
   "metadata": {},
   "outputs": [],
   "source": [
    "tfidf_vectorizer = TfidfVectorizer(\n",
    "    stop_words=stop_words,\n",
    "    ngram_range=(1, 2),\n",
    "    max_features=500,\n",
    ")"
   ]
  },
  {
   "cell_type": "code",
   "execution_count": 19,
   "id": "83af4c02-84cc-4e0d-a817-bfae5a109908",
   "metadata": {},
   "outputs": [
    {
     "data": {
      "text/plain": [
       "500"
      ]
     },
     "execution_count": 19,
     "metadata": {},
     "output_type": "execute_result"
    }
   ],
   "source": [
    "X = tfidf_vectorizer.fit_transform(tweets_df.cleared_text).toarray()\n",
    "y = tweets_df.ticker_grow_in_this_day\n",
    "\n",
    "len(tfidf_vectorizer.vocabulary_)"
   ]
  },
  {
   "cell_type": "code",
   "execution_count": 20,
   "id": "2702d5b9-56d3-4e4b-a5b8-1e5a37047469",
   "metadata": {},
   "outputs": [
    {
     "data": {
      "text/plain": [
       "((7778, 500), (865, 500), (7778,), (865,))"
      ]
     },
     "execution_count": 20,
     "metadata": {},
     "output_type": "execute_result"
    }
   ],
   "source": [
    "train_percent = 0.8\n",
    "idx = int(train_percent * len(y))\n",
    "\n",
    "X_train, X_test, y_train, y_test = train_test_split(X, y, stratify=y, train_size=0.9, random_state=42)\n",
    "\n",
    "X_train.shape, X_test.shape, y_train.shape, y_test.shape"
   ]
  },
  {
   "cell_type": "code",
   "execution_count": 21,
   "id": "f1e7c057-9092-450a-91e9-c5a8632efb0b",
   "metadata": {},
   "outputs": [
    {
     "name": "stdout",
     "output_type": "stream",
     "text": [
      "Test classification report (baseline):\n",
      "\n",
      "              precision    recall  f1-score   support\n",
      "\n",
      "           0       0.56      0.56      0.56       498\n",
      "           1       0.41      0.40      0.40       367\n",
      "\n",
      "    accuracy                           0.50       865\n",
      "   macro avg       0.48      0.48      0.48       865\n",
      "weighted avg       0.50      0.50      0.50       865\n",
      "\n"
     ]
    }
   ],
   "source": [
    "rnd = np.random.default_rng(42)\n",
    "\n",
    "y_baseline = np.int32(rnd.random(y_test.shape) <= y.mean())\n",
    "print('Test classification report (baseline):\\n')\n",
    "print(classification_report(y_true=y_test, y_pred=y_baseline))"
   ]
  },
  {
   "cell_type": "code",
   "execution_count": 22,
   "id": "184c930e-fb46-42fe-9519-0525aee79eee",
   "metadata": {},
   "outputs": [
    {
     "name": "stdout",
     "output_type": "stream",
     "text": [
      "CPU times: total: 27.3 s\n",
      "Wall time: 6.24 s\n"
     ]
    }
   ],
   "source": [
    "%%time\n",
    "lin_regr = LogisticRegressionCV(\n",
    "    cv=5,\n",
    "    max_iter=5000,\n",
    "    random_state=42,\n",
    "    # scoring=lambda y_true, y_pred, *args: precision_score(1 - y_true, 1 - y_pred, *args),\n",
    "    # scoring='precision',\n",
    "    # class_weight='balanced',\n",
    "    # multi_class='ovr',\n",
    ").fit(X_train, y_train)"
   ]
  },
  {
   "cell_type": "code",
   "execution_count": 23,
   "id": "55f36e81-aedc-48aa-b8a6-c0d8f3177871",
   "metadata": {},
   "outputs": [
    {
     "name": "stdout",
     "output_type": "stream",
     "text": [
      "Train classification report:\n",
      "\n",
      "              precision    recall  f1-score   support\n",
      "\n",
      "           0       0.58      1.00      0.73      4475\n",
      "           1       1.00      0.00      0.00      3303\n",
      "\n",
      "    accuracy                           0.58      7778\n",
      "   macro avg       0.79      0.50      0.37      7778\n",
      "weighted avg       0.76      0.58      0.42      7778\n",
      "\n"
     ]
    }
   ],
   "source": [
    "y_train_pred = lin_regr.predict(X_train)\n",
    "print('Train classification report:\\n')\n",
    "print(classification_report(y_true=y_train, y_pred=y_train_pred))"
   ]
  },
  {
   "cell_type": "code",
   "execution_count": 24,
   "id": "afe33240-95b0-4758-9c5e-4c257b41fbb3",
   "metadata": {},
   "outputs": [
    {
     "name": "stdout",
     "output_type": "stream",
     "text": [
      "Test classification report:\n",
      "\n",
      "              precision    recall  f1-score   support\n",
      "\n",
      "           0       0.58      1.00      0.73       498\n",
      "           1       0.00      0.00      0.00       367\n",
      "\n",
      "    accuracy                           0.58       865\n",
      "   macro avg       0.29      0.50      0.37       865\n",
      "weighted avg       0.33      0.58      0.42       865\n",
      "\n"
     ]
    },
    {
     "name": "stderr",
     "output_type": "stream",
     "text": [
      "C:\\Users\\Semon\\Desktop\\OTUSFinalProject\\venv\\lib\\site-packages\\sklearn\\metrics\\_classification.py:1334: UndefinedMetricWarning: Precision and F-score are ill-defined and being set to 0.0 in labels with no predicted samples. Use `zero_division` parameter to control this behavior.\n",
      "  _warn_prf(average, modifier, msg_start, len(result))\n",
      "C:\\Users\\Semon\\Desktop\\OTUSFinalProject\\venv\\lib\\site-packages\\sklearn\\metrics\\_classification.py:1334: UndefinedMetricWarning: Precision and F-score are ill-defined and being set to 0.0 in labels with no predicted samples. Use `zero_division` parameter to control this behavior.\n",
      "  _warn_prf(average, modifier, msg_start, len(result))\n",
      "C:\\Users\\Semon\\Desktop\\OTUSFinalProject\\venv\\lib\\site-packages\\sklearn\\metrics\\_classification.py:1334: UndefinedMetricWarning: Precision and F-score are ill-defined and being set to 0.0 in labels with no predicted samples. Use `zero_division` parameter to control this behavior.\n",
      "  _warn_prf(average, modifier, msg_start, len(result))\n"
     ]
    }
   ],
   "source": [
    "y_pred = lin_regr.predict(X_test)\n",
    "print('Test classification report:\\n')\n",
    "print(classification_report(y_true=y_test, y_pred=y_pred))"
   ]
  },
  {
   "cell_type": "code",
   "execution_count": 25,
   "id": "975a3db7-b41c-4783-86c0-6ef23a1a29ad",
   "metadata": {},
   "outputs": [],
   "source": [
    "words_coeffs = pd.Series(dict(zip(\n",
    "    tfidf_vectorizer.get_feature_names_out(), \n",
    "    lin_regr.coef_.flatten()\n",
    ")))"
   ]
  },
  {
   "cell_type": "code",
   "execution_count": 26,
   "id": "0804e537-29c6-4d13-9c01-5455aa4d7ce9",
   "metadata": {},
   "outputs": [
    {
     "data": {
      "text/plain": [
       "array([-0.29996225])"
      ]
     },
     "execution_count": 26,
     "metadata": {},
     "output_type": "execute_result"
    }
   ],
   "source": [
    "lin_regr.intercept_"
   ]
  },
  {
   "cell_type": "code",
   "execution_count": 27,
   "id": "36d294fb-ff03-45af-a80d-ead7baae87e9",
   "metadata": {},
   "outputs": [
    {
     "data": {
      "text/plain": [
       "cybertruck     0.284826\n",
       "yup            0.228100\n",
       "next           0.225277\n",
       "mars           0.213514\n",
       "idea           0.209308\n",
       "model          0.206289\n",
       "new            0.203816\n",
       "sounds         0.193985\n",
       "doge           0.188123\n",
       "coming         0.168064\n",
       "maybe          0.159998\n",
       "interesting    0.155821\n",
       "long           0.153871\n",
       "faster         0.153496\n",
       "launch         0.151731\n",
       "dtype: float64"
      ]
     },
     "execution_count": 27,
     "metadata": {},
     "output_type": "execute_result"
    }
   ],
   "source": [
    "words_coeffs.sort_values(ascending=False).head(15)"
   ]
  },
  {
   "cell_type": "code",
   "execution_count": 28,
   "id": "67a4fe56-96ab-4433-8439-2489c9bff832",
   "metadata": {},
   "outputs": [
    {
     "data": {
      "text/plain": [
       "right      -0.311185\n",
       "ok         -0.261120\n",
       "way        -0.213143\n",
       "exactly    -0.198542\n",
       "indeed     -0.178443\n",
       "hope       -0.160733\n",
       "sorry      -0.159230\n",
       "yet        -0.154436\n",
       "hard       -0.153561\n",
       "still      -0.150873\n",
       "great      -0.150068\n",
       "soon       -0.145921\n",
       "accurate   -0.139715\n",
       "reality    -0.136147\n",
       "know       -0.134153\n",
       "dtype: float64"
      ]
     },
     "execution_count": 28,
     "metadata": {},
     "output_type": "execute_result"
    }
   ],
   "source": [
    "words_coeffs.sort_values(ascending=True).head(15)"
   ]
  },
  {
   "cell_type": "markdown",
   "id": "f175c6d4-1f2d-4564-8f52-bbdb7946f7f8",
   "metadata": {},
   "source": [
    "## TF-IDF. Random forest"
   ]
  },
  {
   "cell_type": "code",
   "execution_count": 29,
   "id": "a70094d5-d7ba-4092-912d-54e9ba47ea99",
   "metadata": {},
   "outputs": [],
   "source": [
    "random_forest = RandomForestClassifier(random_state=42).fit(X_train, y_train)"
   ]
  },
  {
   "cell_type": "code",
   "execution_count": 30,
   "id": "a6a4db7f-f57b-4c6a-b46d-d612fdf9a53c",
   "metadata": {},
   "outputs": [
    {
     "name": "stdout",
     "output_type": "stream",
     "text": [
      "Train classification report:\n",
      "\n",
      "              precision    recall  f1-score   support\n",
      "\n",
      "           0       0.81      0.96      0.88      4475\n",
      "           1       0.93      0.69      0.79      3303\n",
      "\n",
      "    accuracy                           0.84      7778\n",
      "   macro avg       0.87      0.82      0.83      7778\n",
      "weighted avg       0.86      0.84      0.84      7778\n",
      "\n"
     ]
    }
   ],
   "source": [
    "y_train_pred = random_forest.predict(X_train)\n",
    "print('Train classification report:\\n')\n",
    "print(classification_report(y_true=y_train, y_pred=y_train_pred))"
   ]
  },
  {
   "cell_type": "code",
   "execution_count": 31,
   "id": "f6b74cc2-5240-4ca5-9f44-cec36d408a31",
   "metadata": {},
   "outputs": [
    {
     "name": "stdout",
     "output_type": "stream",
     "text": [
      "Test classification report:\n",
      "\n",
      "              precision    recall  f1-score   support\n",
      "\n",
      "           0       0.59      0.78      0.67       498\n",
      "           1       0.47      0.26      0.34       367\n",
      "\n",
      "    accuracy                           0.56       865\n",
      "   macro avg       0.53      0.52      0.50       865\n",
      "weighted avg       0.54      0.56      0.53       865\n",
      "\n"
     ]
    }
   ],
   "source": [
    "y_pred = random_forest.predict(X_test)\n",
    "print('Test classification report:\\n')\n",
    "print(classification_report(y_true=y_test, y_pred=y_pred))"
   ]
  },
  {
   "cell_type": "code",
   "execution_count": 32,
   "id": "83b08e2b-698a-4857-92e7-6e601a041d15",
   "metadata": {},
   "outputs": [],
   "source": [
    "param_grid = { \n",
    "    'n_estimators': [200, 500],\n",
    "    'max_features': ['sqrt', 'log2'],\n",
    "    'max_depth' : [4,5,6,7,8],\n",
    "    'criterion' :['gini', 'entropy']\n",
    "}"
   ]
  },
  {
   "cell_type": "code",
   "execution_count": 33,
   "id": "e867fce8-57a6-4e8d-aa09-b5b70c590318",
   "metadata": {},
   "outputs": [
    {
     "name": "stdout",
     "output_type": "stream",
     "text": [
      "Fitting 5 folds for each of 40 candidates, totalling 200 fits\n",
      "CPU times: total: 9.5 s\n",
      "Wall time: 3min 2s\n"
     ]
    },
    {
     "data": {
      "text/html": [
       "<style>#sk-container-id-1 {color: black;background-color: white;}#sk-container-id-1 pre{padding: 0;}#sk-container-id-1 div.sk-toggleable {background-color: white;}#sk-container-id-1 label.sk-toggleable__label {cursor: pointer;display: block;width: 100%;margin-bottom: 0;padding: 0.3em;box-sizing: border-box;text-align: center;}#sk-container-id-1 label.sk-toggleable__label-arrow:before {content: \"▸\";float: left;margin-right: 0.25em;color: #696969;}#sk-container-id-1 label.sk-toggleable__label-arrow:hover:before {color: black;}#sk-container-id-1 div.sk-estimator:hover label.sk-toggleable__label-arrow:before {color: black;}#sk-container-id-1 div.sk-toggleable__content {max-height: 0;max-width: 0;overflow: hidden;text-align: left;background-color: #f0f8ff;}#sk-container-id-1 div.sk-toggleable__content pre {margin: 0.2em;color: black;border-radius: 0.25em;background-color: #f0f8ff;}#sk-container-id-1 input.sk-toggleable__control:checked~div.sk-toggleable__content {max-height: 200px;max-width: 100%;overflow: auto;}#sk-container-id-1 input.sk-toggleable__control:checked~label.sk-toggleable__label-arrow:before {content: \"▾\";}#sk-container-id-1 div.sk-estimator input.sk-toggleable__control:checked~label.sk-toggleable__label {background-color: #d4ebff;}#sk-container-id-1 div.sk-label input.sk-toggleable__control:checked~label.sk-toggleable__label {background-color: #d4ebff;}#sk-container-id-1 input.sk-hidden--visually {border: 0;clip: rect(1px 1px 1px 1px);clip: rect(1px, 1px, 1px, 1px);height: 1px;margin: -1px;overflow: hidden;padding: 0;position: absolute;width: 1px;}#sk-container-id-1 div.sk-estimator {font-family: monospace;background-color: #f0f8ff;border: 1px dotted black;border-radius: 0.25em;box-sizing: border-box;margin-bottom: 0.5em;}#sk-container-id-1 div.sk-estimator:hover {background-color: #d4ebff;}#sk-container-id-1 div.sk-parallel-item::after {content: \"\";width: 100%;border-bottom: 1px solid gray;flex-grow: 1;}#sk-container-id-1 div.sk-label:hover label.sk-toggleable__label {background-color: #d4ebff;}#sk-container-id-1 div.sk-serial::before {content: \"\";position: absolute;border-left: 1px solid gray;box-sizing: border-box;top: 0;bottom: 0;left: 50%;z-index: 0;}#sk-container-id-1 div.sk-serial {display: flex;flex-direction: column;align-items: center;background-color: white;padding-right: 0.2em;padding-left: 0.2em;position: relative;}#sk-container-id-1 div.sk-item {position: relative;z-index: 1;}#sk-container-id-1 div.sk-parallel {display: flex;align-items: stretch;justify-content: center;background-color: white;position: relative;}#sk-container-id-1 div.sk-item::before, #sk-container-id-1 div.sk-parallel-item::before {content: \"\";position: absolute;border-left: 1px solid gray;box-sizing: border-box;top: 0;bottom: 0;left: 50%;z-index: -1;}#sk-container-id-1 div.sk-parallel-item {display: flex;flex-direction: column;z-index: 1;position: relative;background-color: white;}#sk-container-id-1 div.sk-parallel-item:first-child::after {align-self: flex-end;width: 50%;}#sk-container-id-1 div.sk-parallel-item:last-child::after {align-self: flex-start;width: 50%;}#sk-container-id-1 div.sk-parallel-item:only-child::after {width: 0;}#sk-container-id-1 div.sk-dashed-wrapped {border: 1px dashed gray;margin: 0 0.4em 0.5em 0.4em;box-sizing: border-box;padding-bottom: 0.4em;background-color: white;}#sk-container-id-1 div.sk-label label {font-family: monospace;font-weight: bold;display: inline-block;line-height: 1.2em;}#sk-container-id-1 div.sk-label-container {text-align: center;}#sk-container-id-1 div.sk-container {/* jupyter's `normalize.less` sets `[hidden] { display: none; }` but bootstrap.min.css set `[hidden] { display: none !important; }` so we also need the `!important` here to be able to override the default hidden behavior on the sphinx rendered scikit-learn.org. See: https://github.com/scikit-learn/scikit-learn/issues/21755 */display: inline-block !important;position: relative;}#sk-container-id-1 div.sk-text-repr-fallback {display: none;}</style><div id=\"sk-container-id-1\" class=\"sk-top-container\"><div class=\"sk-text-repr-fallback\"><pre>GridSearchCV(cv=5, estimator=RandomForestClassifier(random_state=42), n_jobs=-1,\n",
       "             param_grid={&#x27;criterion&#x27;: [&#x27;gini&#x27;, &#x27;entropy&#x27;],\n",
       "                         &#x27;max_depth&#x27;: [4, 5, 6, 7, 8],\n",
       "                         &#x27;max_features&#x27;: [&#x27;sqrt&#x27;, &#x27;log2&#x27;],\n",
       "                         &#x27;n_estimators&#x27;: [200, 500]},\n",
       "             scoring=&#x27;accuracy&#x27;, verbose=1)</pre><b>In a Jupyter environment, please rerun this cell to show the HTML representation or trust the notebook. <br />On GitHub, the HTML representation is unable to render, please try loading this page with nbviewer.org.</b></div><div class=\"sk-container\" hidden><div class=\"sk-item sk-dashed-wrapped\"><div class=\"sk-label-container\"><div class=\"sk-label sk-toggleable\"><input class=\"sk-toggleable__control sk-hidden--visually\" id=\"sk-estimator-id-1\" type=\"checkbox\" ><label for=\"sk-estimator-id-1\" class=\"sk-toggleable__label sk-toggleable__label-arrow\">GridSearchCV</label><div class=\"sk-toggleable__content\"><pre>GridSearchCV(cv=5, estimator=RandomForestClassifier(random_state=42), n_jobs=-1,\n",
       "             param_grid={&#x27;criterion&#x27;: [&#x27;gini&#x27;, &#x27;entropy&#x27;],\n",
       "                         &#x27;max_depth&#x27;: [4, 5, 6, 7, 8],\n",
       "                         &#x27;max_features&#x27;: [&#x27;sqrt&#x27;, &#x27;log2&#x27;],\n",
       "                         &#x27;n_estimators&#x27;: [200, 500]},\n",
       "             scoring=&#x27;accuracy&#x27;, verbose=1)</pre></div></div></div><div class=\"sk-parallel\"><div class=\"sk-parallel-item\"><div class=\"sk-item\"><div class=\"sk-label-container\"><div class=\"sk-label sk-toggleable\"><input class=\"sk-toggleable__control sk-hidden--visually\" id=\"sk-estimator-id-2\" type=\"checkbox\" ><label for=\"sk-estimator-id-2\" class=\"sk-toggleable__label sk-toggleable__label-arrow\">estimator: RandomForestClassifier</label><div class=\"sk-toggleable__content\"><pre>RandomForestClassifier(random_state=42)</pre></div></div></div><div class=\"sk-serial\"><div class=\"sk-item\"><div class=\"sk-estimator sk-toggleable\"><input class=\"sk-toggleable__control sk-hidden--visually\" id=\"sk-estimator-id-3\" type=\"checkbox\" ><label for=\"sk-estimator-id-3\" class=\"sk-toggleable__label sk-toggleable__label-arrow\">RandomForestClassifier</label><div class=\"sk-toggleable__content\"><pre>RandomForestClassifier(random_state=42)</pre></div></div></div></div></div></div></div></div></div></div>"
      ],
      "text/plain": [
       "GridSearchCV(cv=5, estimator=RandomForestClassifier(random_state=42), n_jobs=-1,\n",
       "             param_grid={'criterion': ['gini', 'entropy'],\n",
       "                         'max_depth': [4, 5, 6, 7, 8],\n",
       "                         'max_features': ['sqrt', 'log2'],\n",
       "                         'n_estimators': [200, 500]},\n",
       "             scoring='accuracy', verbose=1)"
      ]
     },
     "execution_count": 33,
     "metadata": {},
     "output_type": "execute_result"
    }
   ],
   "source": [
    "%%time\n",
    "CV_rfc = GridSearchCV(\n",
    "    estimator=RandomForestClassifier(random_state=42), \n",
    "    param_grid=param_grid, \n",
    "    cv=5,\n",
    "    n_jobs=-1,\n",
    "    verbose=1,\n",
    "    scoring='accuracy',\n",
    ")\n",
    "CV_rfc.fit(X_train, y_train)"
   ]
  },
  {
   "cell_type": "code",
   "execution_count": 34,
   "id": "002d2d97-962b-4477-91d5-276296351f28",
   "metadata": {},
   "outputs": [
    {
     "name": "stdout",
     "output_type": "stream",
     "text": [
      "Train classification report:\n",
      "\n",
      "              precision    recall  f1-score   support\n",
      "\n",
      "           0       0.58      1.00      0.73      4475\n",
      "           1       1.00      0.00      0.00      3303\n",
      "\n",
      "    accuracy                           0.58      7778\n",
      "   macro avg       0.79      0.50      0.37      7778\n",
      "weighted avg       0.76      0.58      0.42      7778\n",
      "\n"
     ]
    }
   ],
   "source": [
    "y_train_pred = CV_rfc.predict(X_train)\n",
    "print('Train classification report:\\n')\n",
    "print(classification_report(y_true=y_train, y_pred=y_train_pred))"
   ]
  },
  {
   "cell_type": "code",
   "execution_count": 35,
   "id": "d4e93b20-1317-4051-b68d-a244c9845b5f",
   "metadata": {},
   "outputs": [
    {
     "name": "stdout",
     "output_type": "stream",
     "text": [
      "Test classification report:\n",
      "\n",
      "              precision    recall  f1-score   support\n",
      "\n",
      "           0       0.58      1.00      0.73       498\n",
      "           1       0.00      0.00      0.00       367\n",
      "\n",
      "    accuracy                           0.58       865\n",
      "   macro avg       0.29      0.50      0.37       865\n",
      "weighted avg       0.33      0.58      0.42       865\n",
      "\n"
     ]
    },
    {
     "name": "stderr",
     "output_type": "stream",
     "text": [
      "C:\\Users\\Semon\\Desktop\\OTUSFinalProject\\venv\\lib\\site-packages\\sklearn\\metrics\\_classification.py:1334: UndefinedMetricWarning: Precision and F-score are ill-defined and being set to 0.0 in labels with no predicted samples. Use `zero_division` parameter to control this behavior.\n",
      "  _warn_prf(average, modifier, msg_start, len(result))\n",
      "C:\\Users\\Semon\\Desktop\\OTUSFinalProject\\venv\\lib\\site-packages\\sklearn\\metrics\\_classification.py:1334: UndefinedMetricWarning: Precision and F-score are ill-defined and being set to 0.0 in labels with no predicted samples. Use `zero_division` parameter to control this behavior.\n",
      "  _warn_prf(average, modifier, msg_start, len(result))\n",
      "C:\\Users\\Semon\\Desktop\\OTUSFinalProject\\venv\\lib\\site-packages\\sklearn\\metrics\\_classification.py:1334: UndefinedMetricWarning: Precision and F-score are ill-defined and being set to 0.0 in labels with no predicted samples. Use `zero_division` parameter to control this behavior.\n",
      "  _warn_prf(average, modifier, msg_start, len(result))\n"
     ]
    }
   ],
   "source": [
    "y_pred = CV_rfc.predict(X_test)\n",
    "print('Test classification report:\\n')\n",
    "print(classification_report(y_true=y_test, y_pred=y_pred))"
   ]
  },
  {
   "cell_type": "code",
   "execution_count": 36,
   "id": "048c33a1-19aa-4eac-b7b4-36b8decb2031",
   "metadata": {},
   "outputs": [],
   "source": [
    "words_importances = pd.Series(dict(zip(\n",
    "    tfidf_vectorizer.get_feature_names_out(), \n",
    "    CV_rfc.best_estimator_.feature_importances_\n",
    ")))"
   ]
  },
  {
   "cell_type": "code",
   "execution_count": 37,
   "id": "bd1faffa-bd4b-4988-969c-227cab9b34e7",
   "metadata": {},
   "outputs": [
    {
     "data": {
      "text/plain": [
       "cybertruck    0.022574\n",
       "right         0.020722\n",
       "density       0.016068\n",
       "model         0.015807\n",
       "way           0.014700\n",
       "looks         0.011151\n",
       "doge          0.010650\n",
       "reality       0.010591\n",
       "long          0.010331\n",
       "time          0.010207\n",
       "next          0.010015\n",
       "idea          0.009830\n",
       "indeed        0.009397\n",
       "month         0.009376\n",
       "mars          0.009336\n",
       "dtype: float64"
      ]
     },
     "execution_count": 37,
     "metadata": {},
     "output_type": "execute_result"
    }
   ],
   "source": [
    "words_importances.sort_values(ascending=False).head(15)"
   ]
  },
  {
   "cell_type": "code",
   "execution_count": 38,
   "id": "8fd37f0c-6ebd-4a3a-a119-47fbc5e1ef2e",
   "metadata": {},
   "outputs": [
    {
     "data": {
      "text/plain": [
       "person             0.000000\n",
       "become             0.000002\n",
       "good point         0.000004\n",
       "absolutely         0.000024\n",
       "30                 0.000059\n",
       "million            0.000077\n",
       "nice               0.000083\n",
       "gas                0.000084\n",
       "bit                0.000088\n",
       "satellites         0.000095\n",
       "half               0.000097\n",
       "automatically      0.000099\n",
       "flaps              0.000111\n",
       "required           0.000113\n",
       "congratulations    0.000124\n",
       "dtype: float64"
      ]
     },
     "execution_count": 38,
     "metadata": {},
     "output_type": "execute_result"
    }
   ],
   "source": [
    "words_importances.sort_values(ascending=True).head(15)"
   ]
  }
 ],
 "metadata": {
  "kernelspec": {
   "display_name": "Python 3 (ipykernel)",
   "language": "python",
   "name": "python3"
  },
  "language_info": {
   "codemirror_mode": {
    "name": "ipython",
    "version": 3
   },
   "file_extension": ".py",
   "mimetype": "text/x-python",
   "name": "python",
   "nbconvert_exporter": "python",
   "pygments_lexer": "ipython3",
   "version": "3.9.13"
  }
 },
 "nbformat": 4,
 "nbformat_minor": 5
}
